{
 "cells": [
  {
   "cell_type": "markdown",
   "id": "e0784a2c-8a2d-408f-ab72-bf2f89bb632d",
   "metadata": {},
   "source": [
    "# 期权定价"
   ]
  },
  {
   "cell_type": "markdown",
   "id": "6575b8d0-8efc-4667-b38e-9f1694f87137",
   "metadata": {},
   "source": [
    "## 期权理论"
   ]
  },
  {
   "cell_type": "markdown",
   "id": "bb2a7464-caba-47c0-8f3f-7b048115030f",
   "metadata": {},
   "source": [
    "期权，是指一种合约，源于十八世纪后期的美国和欧洲市场，该合约赋予持有人在某一特定日期或该日之前的任何时间以固定价格购进或售出一种资产的权利。"
   ]
  },
  {
   "cell_type": "markdown",
   "id": "e6f10cef-8d76-4e4d-8220-16e02e0d84b8",
   "metadata": {},
   "source": [
    "期权会约定一个执行价格X，看涨看跌期权有所不同：\n",
    "- 看涨期权，也叫call option，指未来可以以X价格买入该股票，所以如果股票价格超过X，期权就可以行权获取股票，然后到市场卖出获取收入\n",
    "- 看跌期权，也叫put optopn，指未来可以以X价格卖出该股票，所以如果股票价格小于X，期权就可以行权直接卖给期权的买方获取收入"
   ]
  },
  {
   "cell_type": "markdown",
   "id": "9ffd8a07-b04a-4ad5-90f2-7b55206dfbc6",
   "metadata": {},
   "source": [
    "期权的买方和卖方的权利义务是：\n",
    "- 买方，也叫long方，会支付期权费用，但是可以决定不行权，所以损失最多就是期权费，收益相对无限  \n",
    "- 卖方，也叫short/written方，会收取期权费，但是如果买方行权自己必须被动接受，所以损失相对无限，但是收益有限。为了确定能够被行权，卖方还要支付一定的保证金，而买方不太需要"
   ]
  },
  {
   "cell_type": "markdown",
   "id": "3e96455f-e3c8-4885-b2d3-88214393b3f3",
   "metadata": {},
   "source": [
    "期权分为看涨期权和看跌期权，由于期权的买卖方权利是不对等的，所以能够形成不同的四象限收益：\n",
    "- Long call: $c_T=Max (0, S_T-X) – c_0$\n",
    "- Short call: $c_T=-Max (0, S_T-X) + c_0$\n",
    "- Long put: $p_T= Max (0, X-S_T) – p_0$\n",
    "- Short put: $p_T= -Max (0, X-S_T)+ p_0$  \n",
    "\n",
    "以上的S是行权日的股票价格，c/p是购买看涨/看跌期权时的支付的费用"
   ]
  },
  {
   "cell_type": "markdown",
   "id": "577bcf87-9cff-40a3-80de-3a45bc9a28a4",
   "metadata": {},
   "source": [
    "![](./期权公式定价.assets/期权收益.png)"
   ]
  },
  {
   "cell_type": "markdown",
   "id": "089b2237-8d17-4073-b977-ba8196f3c356",
   "metadata": {},
   "source": [
    "## 离散时间定价-二叉树"
   ]
  },
  {
   "cell_type": "markdown",
   "id": "0be89d34-a128-4632-90f3-ff3e81b11224",
   "metadata": {},
   "source": [
    "在早期，没有掌握高级的数学工具时，对于期权定价我们自然会想到利用金融中无套利定价的方式来进行定价。这种定价方式的无套利用一句话来概括就是：  \n",
    "- 股票涨跌带来的期权的期望收益 = 货币的时间价值（也即无风险利率）"
   ]
  },
  {
   "cell_type": "markdown",
   "id": "090dcb2e-6ccd-49fa-b332-9b1ce03861ab",
   "metadata": {},
   "source": [
    "### 一阶段二叉树"
   ]
  },
  {
   "cell_type": "markdown",
   "id": "fc515999-39a5-4c97-8c1a-000b74a2e704",
   "metadata": {},
   "source": [
    "为了便于理解这个无套利的过程，我们可以举一个通用的例子：  \n",
    "假设存在某看涨期权，它的标的股票的价格在$T_0$阶段是$S_0$，执行价格为$X$，现在我们要对$T_0$阶段的这个看涨期权的价格$C_0$进行定价，这该怎么做呢？"
   ]
  },
  {
   "cell_type": "markdown",
   "id": "827756e4-40ef-4980-bcaf-a1e2461cf0b8",
   "metadata": {},
   "source": [
    "我们可以开始做金融定价的假设了，期权的价格依赖于其标的，所以我们要假设标的股票的价格变化：  \n",
    "- 我们假设到$T_1$阶段，标的股票价格有$\\pi_u$的概率增长为$S^+$，有$\\pi_d$的概率下降为$S^-$\n",
    "- 我们假设下跌幅度$d$和上涨幅度$u$的关系为$u = 1/d$\n",
    "- 我们假设无风险利率是$r_f$\n",
    "- 我们假设中间过程股票不分红\n",
    "- 执行价格$X$ = $S_0$(仅仅便于计算)"
   ]
  },
  {
   "cell_type": "markdown",
   "id": "a349a028-47b3-4d48-92e7-e7362d4ca6be",
   "metadata": {},
   "source": [
    "为了进一步便于大家理解，我们可以直接带入数值：\n",
    "- $S_0$ = $X$ = 20\n",
    "- $u$ = 1.25, $d$ = 0.8\n",
    "- $\\pi_u$ = $1- \\pi_d$ = 0.6  \n",
    "- $r_f$ = 7%"
   ]
  },
  {
   "cell_type": "markdown",
   "id": "5807ed0c-5a32-4358-adc7-8360f931520a",
   "metadata": {},
   "source": [
    "则根据行权价$X$，期权在$T_1$的价格为：\n",
    "- 股价上涨时，$C^+  = Max(0, 20 \\times 1.25 - 20) = 5$\n",
    "- 股价下跌时，$C^-  = Max(0, 20 \\times 0.8 - 20) = 0$  "
   ]
  },
  {
   "cell_type": "markdown",
   "id": "fc2d3450-5f22-4257-b430-62740803f56e",
   "metadata": {},
   "source": [
    "基于这个上涨下跌，我们可以计算期望价格为：\n",
    "- $E(C)$ = $\\pi_u \\times C^+$ + $\\pi_d \\times C^- = 0.6 \\times 5 + 0.4 \\times 0 = 3$"
   ]
  },
  {
   "cell_type": "markdown",
   "id": "ee63afa8-bab9-475a-9c3f-5cde37673db9",
   "metadata": {},
   "source": [
    "将其除以无风险利率："
   ]
  },
  {
   "cell_type": "markdown",
   "id": "195bdd99-24b4-4ddc-9b92-e4dabe68612f",
   "metadata": {},
   "source": [
    "- $C_0$ = $\\frac{E(C)}{1+r_f} $ = $3 / (1+7\\%) = 2.80$"
   ]
  },
  {
   "cell_type": "markdown",
   "id": "f3d3b12a-7a8d-4cc3-943d-aebb8b5f22e1",
   "metadata": {},
   "source": [
    "![](./期权公式定价.assets/一阶段二叉树.png)"
   ]
  },
  {
   "cell_type": "markdown",
   "id": "d295e320-3161-4dcf-a5d1-352fd2bb4d6b",
   "metadata": {},
   "source": [
    "### 二阶段二叉树"
   ]
  },
  {
   "cell_type": "markdown",
   "id": "2b61097b-d927-454e-a371-2eb8e426a128",
   "metadata": {},
   "source": [
    "既然我们可以看$T_1$时刻的二叉树来定价，那么为什么不能看$T_2$时刻呢？这就是二阶段的二叉树，这个过程和一阶段二叉树完全一样"
   ]
  },
  {
   "cell_type": "markdown",
   "id": "02d29276-16cb-4000-867a-690f2c78882a",
   "metadata": {},
   "source": [
    "我们可以带入上面案例的数值，来试着计算二阶段的结果是如何：  \n",
    "- $S_0$ = $X$ = 20\n",
    "- $u$ = 1.25, $d$ = 0.8\n",
    "- $\\pi_u$ = $1- \\pi_d$ = 0.6  \n",
    "- $r_f$ = 7%"
   ]
  },
  {
   "cell_type": "markdown",
   "id": "b8bf05cb-ed1f-4f6f-9f5d-be8cf932a3e3",
   "metadata": {},
   "source": [
    "则根据行权价$X$，期权在$T_2$的价格为：\n",
    "- 股价连续上涨时，$C^{++}  = Max(0, 20 \\times 1.25 \\times 1.25 - 20) = 11.25$\n",
    "- 股价先涨后跌时，$C^{+-}  = Max(0, 20 \\times 1.25 \\times 0.8  - 20) = 0$  \n",
    "- 股价先跌后涨时，$C^{-+}  = Max(0, 20 \\times 0.8 \\times 1.25  - 20) = 0$  \n",
    "- 股价连续下跌时，$C^{--}  = Max(0, 20 \\times 0.8 \\times 0.8  - 20) = 0$  "
   ]
  },
  {
   "cell_type": "markdown",
   "id": "d1e2bd59-9e8f-48d0-91be-a3f84856a6a7",
   "metadata": {},
   "source": [
    "基于这个上涨下跌，我们可以计算期望价格为：\n",
    "- $E(C)$ = $\\pi_u \\times \\pi_u \\times C^{++}$ = 4.05"
   ]
  },
  {
   "cell_type": "markdown",
   "id": "6c1d9562-cc2e-4906-92c9-3dc7b628ad58",
   "metadata": {},
   "source": [
    "将其除以无风险利率："
   ]
  },
  {
   "cell_type": "markdown",
   "id": "6b124839-bffe-456a-9f11-aeedaba3e96c",
   "metadata": {},
   "source": [
    "- $C_0$ = $\\frac{E(C)}{(1+r_f)^2} $ = $4.05 / (1+7\\%)^2 = 3.54$"
   ]
  },
  {
   "cell_type": "markdown",
   "id": "346ea952-7573-4939-95e2-48b392b28304",
   "metadata": {},
   "source": [
    "![](./期权公式定价.assets/二阶段二叉树.png)"
   ]
  },
  {
   "cell_type": "markdown",
   "id": "6fdc1888-59a9-4b70-9083-6f6fa198811e",
   "metadata": {},
   "source": [
    "### N阶二叉树"
   ]
  },
  {
   "cell_type": "markdown",
   "id": "8eae1319-d687-4ef5-8811-d77dacda144b",
   "metadata": {},
   "source": [
    "很快我们想到是否可以计算N阶段的二叉树的估值？这用编程很容易实现"
   ]
  },
  {
   "cell_type": "code",
   "execution_count": 3,
   "id": "af61b7c8-cb92-47a5-8ed9-4fd403afe0a2",
   "metadata": {},
   "outputs": [],
   "source": [
    "import warnings\n",
    "import pandas as pd\n",
    "import matplotlib.pyplot as plt\n",
    "warnings.filterwarnings('ignore') "
   ]
  },
  {
   "cell_type": "code",
   "execution_count": 13,
   "id": "10ae22d1-cfcd-459e-814a-7eab7794ddec",
   "metadata": {},
   "outputs": [],
   "source": [
    "def get_call_price(S, u, d, N, T, pi_u, pi_d, prob):\n",
    "    # 先定义二叉树\n",
    "    def get_price_tree(S, u, d, N, T, pi_u, pi_d, prob, res):\n",
    "        Su = S * u\n",
    "        Sd = S * d\n",
    "        Pu = prob * pi_u\n",
    "        Pd = prob * pi_d\n",
    "        # 存储递归过程中的结果\n",
    "        res.append({'price': Su, 'depth': T, 'prob': Pu})\n",
    "        res.append({'price': Sd, 'depth': T, 'prob': Pd})\n",
    "        if T < N:\n",
    "            # 递归计算，传入不同值\n",
    "            get_price_tree(Su, u, d, N, T+1, pi_u, pi_d, Pu, res)\n",
    "            get_price_tree(Sd, u, d, N, T+1, pi_u, pi_d, Pd, res)\n",
    "    # 开始传值\n",
    "    res = []\n",
    "    get_price_tree(S, u, d, N, T, pi_u, pi_d, prob, res)\n",
    "    tree_pandas = pd.DataFrame(res)\n",
    "    # 获取最后一阶段的价格\n",
    "    max_depth_pandas = tree_pandas[tree_pandas['depth'] == N] \n",
    "    # 和行权价格X比较\n",
    "    max_depth_pandas['call_price'] = max_depth_pandas['price'].apply(lambda x : x - X if x > X else 0)\n",
    "    # 计算最后一阶段的价格*概率，并求和，则为FV\n",
    "    future_value = (max_depth_pandas['call_price'] * max_depth_pandas['prob']).sum()\n",
    "    # 计算折现现值PV\n",
    "    present_value = future_value / (1+rf) ** N\n",
    "    # 返回现值和股票价格二叉树\n",
    "    return present_value, tree_pandas"
   ]
  },
  {
   "cell_type": "markdown",
   "id": "00af3109-7f84-4d6f-a390-ff22494e83f2",
   "metadata": {},
   "source": [
    "这里采用了和之前一样的数值，仅仅变化N"
   ]
  },
  {
   "cell_type": "code",
   "execution_count": 14,
   "id": "fc0880dc-e664-4f40-859b-b718c5449c98",
   "metadata": {},
   "outputs": [],
   "source": [
    "S = 20\n",
    "u = 1.25\n",
    "d = 1 / u\n",
    "pi_u = 0.6\n",
    "pi_d = 1 - pi_u\n",
    "prob = 1\n",
    "T = 1 # 从第几阶段开始\n",
    "# N = 10 # 一共预测几阶段\n",
    "X = S\n",
    "rf = 0.07"
   ]
  },
  {
   "cell_type": "markdown",
   "id": "3b44d233-6fc5-4a6f-9f7c-445f6cb669a6",
   "metadata": {},
   "source": [
    "可以作图看看10阶段的二叉树的股票价格分布"
   ]
  },
  {
   "cell_type": "code",
   "execution_count": 17,
   "id": "0d639e4a-fbf8-4bec-82ea-7ea55207003f",
   "metadata": {},
   "outputs": [],
   "source": [
    "_ , tree = get_call_price(S, u, d, 10, T, pi_u, pi_d, prob)"
   ]
  },
  {
   "cell_type": "code",
   "execution_count": 18,
   "id": "c2b29694-e55b-476d-970f-0b7089e473f0",
   "metadata": {},
   "outputs": [
    {
     "data": {
      "text/plain": [
       "Text(0.5, 1.0, 'Stock Price via Different Stage')"
      ]
     },
     "execution_count": 18,
     "metadata": {},
     "output_type": "execute_result"
    },
    {
     "data": {
      "image/png": "[encoded data removed]",
      "text/plain": [
       "<Figure size 432x288 with 1 Axes>"
      ]
     },
     "metadata": {
      "needs_background": "light"
     },
     "output_type": "display_data"
    }
   ],
   "source": [
    "plt.scatter(tree['depth'], tree['price'])\n",
    "plt.xlabel('stage')\n",
    "plt.ylabel('stock price')\n",
    "plt.title('Stock Price via Different Stage')"
   ]
  },
  {
   "cell_type": "code",
   "execution_count": 102,
   "id": "eff6f54a-7be7-4d3b-8268-186c388d7b97",
   "metadata": {},
   "outputs": [],
   "source": [
    "N_list = range(1, 10)\n",
    "call_price_list = []\n",
    "for N in N_list:\n",
    "    call_price, _ = get_call_price(S, u, d, N, T, pi_u, pi_d, prob, res)\n",
    "    call_price_list.append(call_price)"
   ]
  },
  {
   "cell_type": "markdown",
   "id": "3e38a55d-140e-4edf-8c93-602391384997",
   "metadata": {},
   "source": [
    "根据下图中结果可以看到，阶段数越高，看涨期权的价格越高，这是为什么呢？  \n",
    "- 一方面，期权是有**存续时间**的，大部分期权可能最长都不超过1年，所以你预估10阶段的可能性不高\n",
    "- 另一方面，我们也看出，期权的价格和其存续时间是显著正相关的"
   ]
  },
  {
   "cell_type": "code",
   "execution_count": 96,
   "id": "640c4843-dac6-4129-ac79-8fca33a04f1b",
   "metadata": {},
   "outputs": [
    {
     "data": {
      "text/plain": [
       "Text(0.5, 1.0, 'Call Price Valuation via Different Stage Tree')"
      ]
     },
     "execution_count": 96,
     "metadata": {},
     "output_type": "execute_result"
    },
    {
     "data": {
      "image/png": "[encoded data removed]",
      "text/plain": [
       "<Figure size 432x288 with 1 Axes>"
      ]
     },
     "metadata": {
      "needs_background": "light"
     },
     "output_type": "display_data"
    }
   ],
   "source": [
    "plt.plot(T_list, call_price_list)\n",
    "plt.xlabel('stage')\n",
    "plt.ylabel('call price')\n",
    "plt.title('Call Price Valuation via Different Stage Tree')"
   ]
  },
  {
   "cell_type": "markdown",
   "id": "3cb845e0-01e2-4b80-ab89-84cb954d7d1c",
   "metadata": {},
   "source": [
    "如果一个期权只能在第二年行权，看来我们用二叉树计算估值倒也可以，但是期权中还有一大类是可以在任意时间行权的：\n",
    "- 欧式期权只能在最后到期日行权，美式期权可以在到期日前任意交易时间行权"
   ]
  },
  {
   "cell_type": "markdown",
   "id": "12ed9b33-d80d-4a3d-9c35-c17f1ff2e628",
   "metadata": {},
   "source": [
    "那么问题来了？我们如何对这种每时每刻都需要重新估值美式期权进行定价呢？或者说，我们如何更精确的估算1年内（1-stage）的期权的价格？  \n",
    "很快我们类比了金融计算复利的方式，从而联想到微积分的方法：\n",
    "- 我们可以将这个这1年不断拆细，拆成一个一个$\\Delta t$，然后计算每个$\\Delta t$时间的期权价值\n",
    "- 可是随之而来的问题是，之前假设的$u, d, \\pi_u, \\pi_d$都要跟着调整，毕竟那是站在一年的时间假设的离散型变量"
   ]
  },
  {
   "cell_type": "markdown",
   "id": "341b8ae7-bb25-4780-bb17-8a55a58077ec",
   "metadata": {},
   "source": [
    "## 连续时间定价-BSM"
   ]
  },
  {
   "cell_type": "markdown",
   "id": "e3e8a6dc-54b4-4f41-bda4-84c60fef855c",
   "metadata": {},
   "source": [
    "BS写了论文，Merton也写了论文，前后差了没多久，都解出了微分方程，用了两种不同的方式"
   ]
  },
  {
   "cell_type": "markdown",
   "id": "a2f4fc60-2820-481c-ba3d-5bb3c8017725",
   "metadata": {},
   "source": [
    "### 正态分布"
   ]
  },
  {
   "cell_type": "markdown",
   "id": "4ef61050-9684-48c3-82e1-ea7626ffeaff",
   "metadata": {},
   "source": [
    "- https://www.bilibili.com/video/BV1kv411r7UD  \n",
    "高尔顿板、小球，二项分布->正态分布，杨辉三角"
   ]
  },
  {
   "cell_type": "markdown",
   "id": "e9dcb55a-fcac-469e-a03c-558887d6250b",
   "metadata": {},
   "source": [
    "如何用二项分布取极限推得正态分布函数？ - Momona Yang的回答 - 知乎\n",
    "https://www.zhihu.com/question/276928259/answer/468771734"
   ]
  },
  {
   "cell_type": "markdown",
   "id": "649b87d6-5ffa-439f-9ee9-07ecd486434e",
   "metadata": {},
   "source": [
    " 棣莫弗的二项概率逼近 https://blog.51cto.com/u_15294985/3012894"
   ]
  },
  {
   "cell_type": "code",
   "execution_count": 33,
   "id": "3baed4c0-e8e9-4efc-9578-9de4977359a6",
   "metadata": {},
   "outputs": [],
   "source": [
    "def get_price_tree(S, u, d, N, T, pi_u, pi_d, prob, res):\n",
    "    Su = S + u\n",
    "    Sd = S + d\n",
    "    Pu = prob * pi_u\n",
    "    Pd = prob * pi_d\n",
    "    # 存储递归过程中的结果\n",
    "    res.append({'price': Su, 'depth': T, 'prob': Pu})\n",
    "    res.append({'price': Sd, 'depth': T, 'prob': Pd})\n",
    "    if T < N:\n",
    "        # 递归计算，传入不同值\n",
    "        get_price_tree(Su, u, d, N, T+1, pi_u, pi_d, Pu, res)\n",
    "        get_price_tree(Sd, u, d, N, T+1, pi_u, pi_d, Pd, res)\n",
    "res = []\n",
    "get_price_tree(S, u, d, N, T, pi_u, pi_d, prob, res)\n",
    "tree_pandas = pd.DataFrame(res)"
   ]
  },
  {
   "cell_type": "code",
   "execution_count": 34,
   "id": "4ac108f7-f91b-4021-ba17-f0b0cfc7735a",
   "metadata": {},
   "outputs": [
    {
     "data": {
      "text/plain": [
       "Text(0.5, 1.0, 'Stock Price via Different Stage')"
      ]
     },
     "execution_count": 34,
     "metadata": {},
     "output_type": "execute_result"
    },
    {
     "data": {
      "image/png": "[encoded data removed]",
      "text/plain": [
       "<Figure size 432x288 with 1 Axes>"
      ]
     },
     "metadata": {
      "needs_background": "light"
     },
     "output_type": "display_data"
    }
   ],
   "source": [
    "plt.scatter(tree_pandas['depth'], tree_pandas['price'])\n",
    "plt.xlabel('stage')\n",
    "plt.ylabel('stock price')\n",
    "plt.title('Stock Price via Different Stage')"
   ]
  },
  {
   "cell_type": "code",
   "execution_count": 42,
   "id": "c2373d7e-1431-452e-b75e-ddf1d3048553",
   "metadata": {},
   "outputs": [],
   "source": [
    "import numpy as np"
   ]
  },
  {
   "cell_type": "code",
   "execution_count": 48,
   "id": "33549e2c-43d5-4055-8edb-b3d0d2b5ee45",
   "metadata": {},
   "outputs": [],
   "source": [
    "def get_final_price(S, N, delta):\n",
    "    return S + np.random.choice([delta, -delta], N, [0.5, 0.5]).sum()"
   ]
  },
  {
   "cell_type": "code",
   "execution_count": 83,
   "id": "f3779abe-fe5f-42a6-bf1d-a12ed75708cd",
   "metadata": {},
   "outputs": [
    {
     "data": {
      "text/plain": [
       "<BarContainer object of 37 artists>"
      ]
     },
     "execution_count": 83,
     "metadata": {},
     "output_type": "execute_result"
    },
    {
     "data": {
      "image/png": "[encoded data removed]",
      "text/plain": [
       "<Figure size 432x288 with 1 Axes>"
      ]
     },
     "metadata": {
      "needs_background": "light"
     },
     "output_type": "display_data"
    }
   ],
   "source": [
    "price_list = []\n",
    "for i in range(10000):\n",
    "    price_list.append(get_final_price(10, 100, 1))\n",
    "price_dist = pd.Series(price_list).value_counts()\n",
    "plt.bar(price_dist.index, price_dist.values)"
   ]
  },
  {
   "cell_type": "markdown",
   "id": "8c34ba31-463b-4f1d-b95e-996f63c44a85",
   "metadata": {},
   "source": [
    "### 马尔科夫过程"
   ]
  },
  {
   "cell_type": "markdown",
   "id": "550c33e2-7c70-42e9-8a24-2fc9f58628b6",
   "metadata": {},
   "source": [
    "标的变量未来的预测仅仅与标的变量的当前值有关，变量的历史值以及变量从过去到现在的演变方式与未来的预测均无关"
   ]
  },
  {
   "cell_type": "markdown",
   "id": "5a2d313b-5102-4950-8395-b85954626639",
   "metadata": {},
   "source": [
    "举例：\n",
    "- 被切除大脑失去记忆的白鼠\n",
    "- 过去的股票价格不会影响未来股价的预测（在确定股票价格所服从的随机过程特性时，其历史数据的统计特性如波动率也许有用，这里仅仅是说明股票的未来价格与过往价格无关）"
   ]
  },
  {
   "cell_type": "markdown",
   "id": "2fdf9ddc-a0ad-45d4-9887-e166258d808a",
   "metadata": {},
   "source": [
    "### 维纳过程"
   ]
  },
  {
   "cell_type": "markdown",
   "id": "a68b2941-3db1-4067-abd2-194683e66a45",
   "metadata": {},
   "source": [
    "TODO：视频"
   ]
  },
  {
   "cell_type": "markdown",
   "id": "a979dd1e-48f2-4a27-aa07-586b72f1c03d",
   "metadata": {},
   "source": [
    "维纳过程是是期望值为0,、方差为1的特殊的马尔科夫过程，曾在物理学中用来描述一个粒子受到大量小分子碰撞后所产生的的运动  \n",
    "该现象最早是由苏格兰植物学家罗伯特·布朗在观察花粉以及其他悬浮微小颗粒在水中不停地做不规则的曲线运动时发现的，所以这种运动也被称为布朗运动"
   ]
  },
  {
   "cell_type": "markdown",
   "id": "3a14784c-23cf-4c8d-a0ef-ba0210043f78",
   "metadata": {},
   "source": [
    "- 性质1：变量$x$在瞬时$\\Delta t$的变换量$\\Delta x$满足等式：$\\Delta x = \\varepsilon \\sqrt{\\Delta t}$  \n",
    "其中$\\varepsilon$服从标准正态分布$N(0,1)$，同时$\\Delta t$可以视为常数，因此$\\Delta t$也服从$N(0,\\sqrt{\\Delta t})$\n",
    "- 性质2：在任何两个不相重叠的$\\Delta t$时间内，变化量$\\Delta x$之间是相互独立的，这个性质就说明变量$x$服从马尔科夫过程"
   ]
  },
  {
   "cell_type": "markdown",
   "id": "944f6efd-2380-4838-997d-dc0a07d5f8a2",
   "metadata": {},
   "source": [
    "接着考虑在一段相对较长时间区间$T$内变量$x$的变化，这里将变化量表述为$x_T - x_0$，可以看成是$N$个区间长度为$\\Delta t$的$x$变化量总和：  \n",
    "$x_T - x_0 = \\sum_{i=1}^N\\varepsilon_i\\sqrt{\\Delta t}$，其中$N=T/\\Delta t$,$\\varepsilon_i$依然服从标准正态分布  \n",
    "由于性质2，所以不同的$\\varepsilon_i$之间是相互独立的，因此$\\sum_{i=1}^N\\varepsilon_i\\sqrt{\\Delta t}$的标准差为$\\sqrt{N \\Delta t} = \\sqrt{T}$，所以整体服从服从$N(0,\\sqrt{T})$的分布"
   ]
  },
  {
   "cell_type": "markdown",
   "id": "697157a6-9858-4dba-93cb-21db6c8d1b2a",
   "metadata": {},
   "source": [
    "在随机过程中，在每单位时间$\\Delta t$内变量变化的期望值称为变量的漂移率(drift rate)，变化的方差称为变量的方差率(variance rate)，因此维纳过程的漂移率为0、方差率为1   \n",
    "漂移率意味着在将来任意时刻变量$x$的期望值等于其当前值；方差率等于1意味着在任意长度为$T$的时间区间内，$x$变化的方差等于$T$"
   ]
  },
  {
   "cell_type": "markdown",
   "id": "754b36fa-8b1d-4675-8f1f-c17131489b28",
   "metadata": {},
   "source": [
    "### 广义维纳过程"
   ]
  },
  {
   "cell_type": "markdown",
   "id": "6f74f65c-33d9-4ac6-9748-db12145a27aa",
   "metadata": {},
   "source": [
    "TODO：为什么要有广义维纳过程？"
   ]
  },
  {
   "cell_type": "markdown",
   "id": "465946fd-233b-448e-afcb-fa1469dafcca",
   "metadata": {},
   "source": [
    "如果变量$y$服从广义维纳过程，则可以表示为：$dy = adt+bdx$，其中$a、b$均为常数  "
   ]
  },
  {
   "cell_type": "markdown",
   "id": "89d2e906-c7d6-474a-8594-8a9501a0c456",
   "metadata": {},
   "source": [
    "- 等式右边的$adt$说明变量$y$在单位时间$\\Delta t$内的漂移率为$a$，如果忽略$bdx$，后面的项目则退化为：$dy = adt$  \n",
    "积分可得$y = y_0 + at$，其中$y_0$是$y$在$t=0$时刻的$y$的初始值，$at$说明经过了时间$T$以后变量$y$的增量就是$aT$\n",
    "- 等式右边的$bdx$可以被看成附加在变量$y$路径上的噪声，幅度为维纳过程的$b$倍，由于维纳过程的标准差为1，则b倍维纳过程在单位时间内的的方差率就等于$b^2$  \n",
    "因此广义维纳过程的漂移率为$a$，方差率为$b^2$  "
   ]
  },
  {
   "cell_type": "markdown",
   "id": "40f45fd1-c50e-4fd2-9be1-71918481c6d5",
   "metadata": {},
   "source": [
    "通过离散化表达，可以得到：$\\Delta y = a\\Delta t + b\\varepsilon \\sqrt{\\Delta t}$，进而得到$\\Delta y $服从$N(a\\Delta t, b\\sqrt{\\Delta t})$  \n",
    "此外根据维纳过程的性质2，则可以得到$y_T-y_0$也服从$N(aT, b\\sqrt{T})$的分布"
   ]
  },
  {
   "cell_type": "markdown",
   "id": "91272e23-718a-48c1-8902-76ddf7a1e288",
   "metadata": {},
   "source": [
    "### 股票价格和几何布朗运动"
   ]
  },
  {
   "cell_type": "markdown",
   "id": "d3762a62-a71d-4ea2-ad32-99cb52ce756f",
   "metadata": {},
   "source": [
    "- https://www.bilibili.com/video/BV1kb4y1d71U   \n",
    "1827布朗，1905爱因斯坦证明。水分子对花粉的不同方向的撞击个数和冲击力不同，导致悬浮微粒的不规则运动  \n",
    "记录运动轨迹，发现是无规则的，升高温度会发生什么？和扩散现象类似，温度越高无规则越剧烈  \n",
    "只有显微镜下才能看到悬浮微粒，微粒大小要在微米数量级，太大各方向的撞击效果会被抵消，体积大的质量也变大，每次撞击的速度变化也几乎为零    \n",
    "纸棒点燃可以看到烟雾颗粒的布朗运动，雾霾的PM2.5在空气也是布朗运动\n",
    "- 类比：股票价格被信息冲击，越是大公司的股价波动率越低，除非信息冲击足够大"
   ]
  },
  {
   "cell_type": "markdown",
   "id": "ee81c4f2-1b45-453d-a5af-99114cda4182",
   "metadata": {},
   "source": [
    "TODO：视频"
   ]
  },
  {
   "cell_type": "markdown",
   "id": "5e53dd7e-b729-4028-9cb5-10aa3b32bd1c",
   "metadata": {},
   "source": [
    "- 股票价格是否具备不变的漂移率$a$和不变的方差率$b^2$？  \n",
    "广义维纳过程违背了投资者要求的预期收益率而不是股票价格的事实，比如预期收益率为20%，股价为5元则股价漂移率为$a$=1元/股，股价为10元则股价漂移率为$a$=2元/股  "
   ]
  },
  {
   "cell_type": "markdown",
   "id": "d4a2bb4b-bb7d-4650-a574-4523cf793131",
   "metadata": {},
   "source": [
    "- 股票收益率的期望值作为常数更合理 - 漂移率$a$  \n",
    "股票价格为$S$，股价的漂移率可以是$\\mu S$，其中$\\mu $是股票收益率的期望值，并且是常数，根据广义维纳过程的结论，这意味着在单位时间$\\Delta t$内股价的期望增量为$\\mu S\\Delta t$"
   ]
  },
  {
   "cell_type": "markdown",
   "id": "472eb261-9953-4a7c-9130-a8e74a65983f",
   "metadata": {},
   "source": [
    "- 合理的假设：无论股价多少，在一个较短时间$\\Delta t$内股票收益率的波动率都是相同的 - 方差率$b^2$  \n",
    "无论股价多少，投资者对股票收益率的波动率(不确定性)持有相同的预期，所以在较短时间$\\Delta t$股票价格的标准差应该与股票价格成正比"
   ]
  },
  {
   "cell_type": "markdown",
   "id": "16f6d58e-299e-40e7-94ae-38eda8f154b9",
   "metadata": {},
   "source": [
    "因为得出股票价格服从随机过程模拟：$dS = \\mu Sdt + \\sigma Sdx$  \n",
    "等式两边同除以$S$，可以得到：$\\frac{dS}{S} = \\mu dt + \\sigma dx$，其中参数$\\mu$是股票收益率的期望值，参数$\\sigma$是股票收益率的波动率  \n",
    "这个式子是用于描述股票价格最广泛的一种随机模型，该模型被称为几何布朗运动  "
   ]
  },
  {
   "cell_type": "markdown",
   "id": "657d06eb-c103-48c7-a659-d4e8fdf359c1",
   "metadata": {},
   "source": [
    "离散形式为：$\\frac{\\Delta S}{S} = \\mu \\Delta t + \\sigma \\varepsilon \\sqrt{\\Delta t }$  \n",
    "因此$\\frac{\\Delta S}{S}$服从$N(\\mu \\Delta t, \\sigma \\sqrt{\\Delta t })$  \n",
    "TODO ： 根据维纳过程的性质2，可以得到？？"
   ]
  }
 ],
 "metadata": {
  "kernelspec": {
   "display_name": "afan_test",
   "language": "python",
   "name": "afan_test"
  },
  "language_info": {
   "codemirror_mode": {
    "name": "ipython",
    "version": 3
   },
   "file_extension": ".py",
   "mimetype": "text/x-python",
   "name": "python",
   "nbconvert_exporter": "python",
   "pygments_lexer": "ipython3",
   "version": "3.9.12"
  }
 },
 "nbformat": 4,
 "nbformat_minor": 5
}

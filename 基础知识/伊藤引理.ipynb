{
 "cells": [
  {
   "cell_type": "markdown",
   "id": "5ea26715-df63-48de-848f-6aba0525c906",
   "metadata": {},
   "source": [
    "https://www.bilibili.com/video/BV1Cv411b7LW"
   ]
  },
  {
   "cell_type": "markdown",
   "id": "f7e8ddc8-52b2-4a8c-a248-5900de065e91",
   "metadata": {},
   "source": [
    "# Brown运动（Wiener过程）"
   ]
  },
  {
   "cell_type": "markdown",
   "id": "5d72b683-e13e-407d-abee-c53e31b39edf",
   "metadata": {},
   "source": [
    "若随机过程W(t)满足以下三条性质：\n",
    "- ①轨线连续，W(0)=0且W(t)是t的连续函数\n",
    "- ②增量正态分布，对固定t有W(t)\\~N(0,t)（这里的W(t)其实也是W(t)-W(0)，N(0,t)其实也是N(0,t-0)），以及W(t)-W(s)\\~N(0,t-s)\n",
    "- ③增量独立，$W(t_n)-W(t_{n-1})-W(t_{n-2}),\\dots,W(t_2)-W(t_1)与W(t_1)$之间相互独立\n",
    "\n",
    "则我们称W(t)为Brown运动或Wiener过程，W以下就是为了纪念Wiener，以下$W(t)和W_t$是一个东西"
   ]
  },
  {
   "cell_type": "markdown",
   "id": "a580d6ac-7dd8-4938-9728-b45308fb44f1",
   "metadata": {},
   "source": [
    "因为布朗运动是随机过程，并不是确定t然后函数就确定了，其实确定t后是随机变量，在L2的意义下就是指t确定后用很小的偏差来接近期望，即期望等于确定值，方差等于0 "
   ]
  },
  {
   "cell_type": "markdown",
   "id": "5c30266a-7195-4c46-aa70-dbf48a22f7ae",
   "metadata": {},
   "source": [
    "由于期望为0，所以期望的平方就是方差，由于方差又是已知的t-s，所以正好消掉。这里的结果不是趋向于0，而是就是0！\n",
    "\n",
    "其实这里的证明这样写已经预设好了T就是一堆t(k+1)-t(k)的求和了，其实应该去掉后再证会更好。"
   ]
  },
  {
   "cell_type": "markdown",
   "id": "a4f718f5-7f6e-449a-ace0-45d8864b4837",
   "metadata": {},
   "source": [
    "再来证明方差，这里Dk和δk就是上面证明期望的那个式子。然后将k被l替换，然后变成双重求和，接着分为k和l相等和k和l不等的情况。\n",
    "\n",
    "如果不等，那么用布朗运动的第三个定理，相互独立所以期望为0。Dk的平方期望其实就是δk。然后开始分部积分，前面部分由于是偶函数乘奇函数相加，所以最后是0。也可以用伽马函数去算会更快，伽马5/2"
   ]
  },
  {
   "cell_type": "markdown",
   "id": "a16a893c-9a5b-40e5-9ca2-6801cd752129",
   "metadata": {},
   "source": [
    "定理一告诉我们连续可微的函数二次变差一定为0，而定理二告诉我们布朗运动的二次变差不是0，所以得到当布朗运动作为粒子的随机游动时，其轨线处处连续但处处不可微。"
   ]
  },
  {
   "cell_type": "markdown",
   "id": "dc96d389-ebca-4212-8055-8d45707c9181",
   "metadata": {},
   "source": [
    "用一个符号来记，将t(k+1)-t(k)记为dt，这是时间间隔。dt2是更高阶的无穷小量，所以可以近似认为是0。所以可以得到dWt的平方以很小的偏差为dt，就可以认为相当，也是在L2的情况下。\n",
    "\n",
    "换个角度来看，就是布朗运动单位长度的平方和时间轴上的单位长度是相等的关系"
   ]
  },
  {
   "cell_type": "markdown",
   "id": "edbed602-0ab9-4608-90f2-bc7f1001188e",
   "metadata": {},
   "source": [
    "# Ito积分"
   ]
  },
  {
   "cell_type": "markdown",
   "id": "35a2f59c-7481-42c7-b6a4-63a9a1b0e824",
   "metadata": {},
   "source": [
    "f(t)是非预测的，只知道t(k)但不知道t(k+1)怎么样。这里的公式和黎曼积分也很不一样，这里用tk时刻（左端点）的函数，并且区间也是布朗运动"
   ]
  },
  {
   "cell_type": "markdown",
   "id": "6a6264f0-8b91-4eb5-9e4f-8d41b0eb0b32",
   "metadata": {},
   "source": [
    "开始往二次变差定理转换，想要一个相减的平方，所以前面把2凑出来，前面用1/2。然后给1个指标的N从1开始最后到N，然后开始凑成完全平方项。多的那个项目就是T，也是因为布朗运动的二次变差不为0"
   ]
  },
  {
   "cell_type": "markdown",
   "id": "74184035-53ef-4b73-9d7c-5e3ff7605164",
   "metadata": {},
   "source": [
    "# 伊藤公式"
   ]
  },
  {
   "cell_type": "markdown",
   "id": "f5a19683-5980-4e0d-a4bd-97b6d3ae7a57",
   "metadata": {},
   "source": [
    "随机微分方程，随机项+波动项（也是白噪声）"
   ]
  },
  {
   "cell_type": "markdown",
   "id": "a40d7244-3fe3-4eb4-98ae-4bd700054ec4",
   "metadata": {},
   "source": [
    "随机微分方程本身没有意义，因为随机微分方程处处不可微，但是可以改变形式写成积分的形状就可以理解了。"
   ]
  },
  {
   "cell_type": "markdown",
   "id": "7253f911-8a7c-4a94-ba91-19e29343c91e",
   "metadata": {},
   "source": [
    "证明时先进行二次泰勒展开，然后6个项目中第3、4个都因为dt2级别的无穷小量所以舍去了，但是到了(dWt)2的时候不能直接舍去，因为上面对无穷小量比较的时候(dWt)2的尺度是dt的"
   ]
  },
  {
   "cell_type": "markdown",
   "id": "f2fba85a-d003-4dd3-8785-b001223153e1",
   "metadata": {},
   "source": [
    "应用：有了工具后开始带入，发现结果就是我们刚才用二次变差结果求出的例子。再来一个复杂的，相当于我们用解造出了一个随机微分方程"
   ]
  },
  {
   "cell_type": "markdown",
   "id": "c74e800c-d953-4142-8699-3a43be18801c",
   "metadata": {},
   "source": [
    "我们也可以正着来，左边那个式子不能简单的dlnS(t)，因为是复合函数，我们要算dlnS(t)到底有多少东西，所以先看到底有哪些，发现比正常意义的微分多一项：σ2/2dt"
   ]
  },
  {
   "cell_type": "code",
   "execution_count": null,
   "id": "fe2c2bdb-1889-45c7-906f-24bd71b20b7b",
   "metadata": {},
   "outputs": [],
   "source": []
  }
 ],
 "metadata": {
  "kernelspec": {
   "display_name": "Python 3 (ipykernel)",
   "language": "python",
   "name": "python3"
  },
  "language_info": {
   "codemirror_mode": {
    "name": "ipython",
    "version": 3
   },
   "file_extension": ".py",
   "mimetype": "text/x-python",
   "name": "python",
   "nbconvert_exporter": "python",
   "pygments_lexer": "ipython3",
   "version": "3.10.1"
  }
 },
 "nbformat": 4,
 "nbformat_minor": 5
}

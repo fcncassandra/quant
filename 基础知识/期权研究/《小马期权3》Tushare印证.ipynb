{
 "cells": [
  {
   "cell_type": "code",
   "execution_count": 1,
   "id": "680d77fd-9853-47d3-88ef-2ddd1b37ef0a",
   "metadata": {},
   "outputs": [],
   "source": [
    "import tushare as ts\n",
    "pro = ts.pro_api('14fb917ff65d6d59dd1ace7064fb3091975ce2035a9d12acd314d610')"
   ]
  },
  {
   "cell_type": "markdown",
   "id": "ee15175a-b0f1-46ee-8f52-01e9488893f3",
   "metadata": {},
   "source": [
    "## 50ETF购2月28000最大涨幅"
   ]
  },
  {
   "cell_type": "markdown",
   "id": "3b5648bf-f2ed-4463-8f19-1f4bb5275a22",
   "metadata": {},
   "source": [
    "P9提到：\n",
    "“比如，在2019年，涨幅最大的期权是“50ETF购2月2800”，这个期权合约从最低价1元上涨到最高价600元左右，在2月25日这一天，最大涨幅是192倍，这确实能很好地体现出期权具有超额收益的特性。”"
   ]
  },
  {
   "cell_type": "markdown",
   "id": "9b6f4c11-0948-45eb-a2ed-d3b463bf7ac8",
   "metadata": {},
   "source": [
    "2022年4月9日获取所有期权合约的信息，发现有12000个不重复的"
   ]
  },
  {
   "cell_type": "code",
   "execution_count": 8,
   "id": "900eae3d-e3b3-4354-82fc-ecf4237a7007",
   "metadata": {},
   "outputs": [],
   "source": [
    "df = pro.opt_basic(exchange='DCE', fields='ts_code,name,exercise_type,list_date,delist_date')"
   ]
  },
  {
   "cell_type": "markdown",
   "id": "28253194-bcf2-42ca-801a-6fa3beba82d0",
   "metadata": {},
   "source": [
    "| 交易所名称         | 交易所代码 | 合约后缀 |\n",
    "| :----------------- | :--------- | :------- |\n",
    "| 郑州商品交易所     | CZCE       | .ZCE     |\n",
    "| 上海期货交易所     | SHFE       | .SHF     |\n",
    "| 大连商品交易所     | DCE        | .DCE     |\n",
    "| 上海证券交易所     | SSE        | .SH      |\n",
    "| 深圳证券交易所     | SZSE       | .SZ      |\n",
    "| 中国金融期货交易所 | CFFEX      | .CFX     |"
   ]
  },
  {
   "cell_type": "code",
   "execution_count": 9,
   "id": "b359e811-b0c7-40af-9ae7-3c8380c93e0c",
   "metadata": {},
   "outputs": [
    {
     "data": {
      "text/html": [
       "<div>\n",
       "<style scoped>\n",
       "    .dataframe tbody tr th:only-of-type {\n",
       "        vertical-align: middle;\n",
       "    }\n",
       "\n",
       "    .dataframe tbody tr th {\n",
       "        vertical-align: top;\n",
       "    }\n",
       "\n",
       "    .dataframe thead th {\n",
       "        text-align: right;\n",
       "    }\n",
       "</style>\n",
       "<table border=\"1\" class=\"dataframe\">\n",
       "  <thead>\n",
       "    <tr style=\"text-align: right;\">\n",
       "      <th></th>\n",
       "      <th>ts_code</th>\n",
       "      <th>name</th>\n",
       "      <th>exercise_type</th>\n",
       "      <th>list_date</th>\n",
       "      <th>delist_date</th>\n",
       "    </tr>\n",
       "  </thead>\n",
       "  <tbody>\n",
       "    <tr>\n",
       "      <th>0</th>\n",
       "      <td>P2207-P-11800.DCE</td>\n",
       "      <td>棕榈油期权2207认沽11800</td>\n",
       "      <td>美式</td>\n",
       "      <td>20220225</td>\n",
       "      <td>20220608</td>\n",
       "    </tr>\n",
       "    <tr>\n",
       "      <th>1</th>\n",
       "      <td>P2207-P-6800.DCE</td>\n",
       "      <td>棕榈油期权2207认沽6800</td>\n",
       "      <td>美式</td>\n",
       "      <td>20210720</td>\n",
       "      <td>20220608</td>\n",
       "    </tr>\n",
       "    <tr>\n",
       "      <th>2</th>\n",
       "      <td>P2207-C-10600.DCE</td>\n",
       "      <td>棕榈油期权2207认购10600</td>\n",
       "      <td>美式</td>\n",
       "      <td>20220128</td>\n",
       "      <td>20220608</td>\n",
       "    </tr>\n",
       "    <tr>\n",
       "      <th>3</th>\n",
       "      <td>P2207-C-6700.DCE</td>\n",
       "      <td>棕榈油期权2207认购6700</td>\n",
       "      <td>美式</td>\n",
       "      <td>20210720</td>\n",
       "      <td>20220608</td>\n",
       "    </tr>\n",
       "    <tr>\n",
       "      <th>4</th>\n",
       "      <td>P2207-P-8200.DCE</td>\n",
       "      <td>棕榈油期权2207认沽8200</td>\n",
       "      <td>美式</td>\n",
       "      <td>20210720</td>\n",
       "      <td>20220608</td>\n",
       "    </tr>\n",
       "  </tbody>\n",
       "</table>\n",
       "</div>"
      ],
      "text/plain": [
       "             ts_code              name exercise_type list_date delist_date\n",
       "0  P2207-P-11800.DCE  棕榈油期权2207认沽11800            美式  20220225    20220608\n",
       "1   P2207-P-6800.DCE   棕榈油期权2207认沽6800            美式  20210720    20220608\n",
       "2  P2207-C-10600.DCE  棕榈油期权2207认购10600            美式  20220128    20220608\n",
       "3   P2207-C-6700.DCE   棕榈油期权2207认购6700            美式  20210720    20220608\n",
       "4   P2207-P-8200.DCE   棕榈油期权2207认沽8200            美式  20210720    20220608"
      ]
     },
     "execution_count": 9,
     "metadata": {},
     "output_type": "execute_result"
    }
   ],
   "source": [
    "df.head()"
   ]
  },
  {
   "cell_type": "code",
   "execution_count": 7,
   "id": "d270a5a5-0167-4469-9030-71d1ecd50291",
   "metadata": {},
   "outputs": [
    {
     "data": {
      "text/plain": [
       "(12000,)"
      ]
     },
     "execution_count": 7,
     "metadata": {},
     "output_type": "execute_result"
    }
   ],
   "source": [
    "df['ts_code'].unique().shape"
   ]
  },
  {
   "cell_type": "code",
   "execution_count": null,
   "id": "62484de6-7c89-4d02-aebb-c9ada8fd6cd1",
   "metadata": {},
   "outputs": [],
   "source": []
  }
 ],
 "metadata": {
  "kernelspec": {
   "display_name": "Python 3 (ipykernel)",
   "language": "python",
   "name": "python3"
  },
  "language_info": {
   "codemirror_mode": {
    "name": "ipython",
    "version": 3
   },
   "file_extension": ".py",
   "mimetype": "text/x-python",
   "name": "python",
   "nbconvert_exporter": "python",
   "pygments_lexer": "ipython3",
   "version": "3.9.7"
  }
 },
 "nbformat": 4,
 "nbformat_minor": 5
}

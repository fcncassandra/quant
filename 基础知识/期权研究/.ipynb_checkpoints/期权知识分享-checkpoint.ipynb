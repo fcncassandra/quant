{
 "cells": [
  {
   "cell_type": "markdown",
   "id": "1889d9d5-745a-4037-be5e-3b0a96db49d8",
   "metadata": {},
   "source": [
    "# 期权基础知识"
   ]
  },
  {
   "cell_type": "markdown",
   "id": "01e42616-e2c9-43b4-92cf-95f35e1fb27c",
   "metadata": {},
   "source": [
    "## 什么是期权"
   ]
  },
  {
   "cell_type": "markdown",
   "id": "58779fa0-7a9b-4a2b-8b82-5b3f6d515bfc",
   "metadata": {},
   "source": [
    "期权，是指一种合约，源于十八世纪后期的美国和欧洲市场，该合约赋予持有人在某一特定日期或该日之前的任何时间以固定价格购进或售出一种资产的**权利**。"
   ]
  },
  {
   "cell_type": "markdown",
   "id": "844dd1e7-7470-4eea-b699-7aae28ac0b3f",
   "metadata": {},
   "source": [
    "## 期权的历史"
   ]
  },
  {
   "cell_type": "markdown",
   "id": "567c9dc5-63d0-4feb-910d-2a93888bb143",
   "metadata": {},
   "source": [
    "任何金融工具产生初期一定是为了解决经济运行中的某些问题，但是由于投资和投机者的存在又会沦为需要监管约束的投机工具，期权的历史也就是这样的套期保值和投机的历史"
   ]
  },
  {
   "cell_type": "markdown",
   "id": "629fb8a4-d770-41af-8ede-9f8598324280",
   "metadata": {},
   "source": [
    "### 古代期权历史"
   ]
  },
  {
   "cell_type": "markdown",
   "id": "da065f18-dfc4-4979-8680-15f05035f5c0",
   "metadata": {},
   "source": [
    "期权作为一种衍生品，有着漫长的历史，最早的关于期权交易雏形的记录甚至可以追溯至公元前一千多年。在《圣经·创世纪》中已有记载。此外，第一位被文字记录利用期权交易致富的投机者是公元前500多年的古希腊著名哲学家和天文学家塔尔斯。\n",
    " \n",
    "塔尔斯通过其擅长的占星术，在尚未入冬时就预测到第二年的橄榄将会大丰收。他在冬季就以低价取得了希俄斯岛和米利塔斯春季旺季所有压榨机的使用权。由于当时远未到收获季节，也没有人认为有必要为了压榨机的使用权而竞价，因此塔尔斯以很低的价格就取得了这些期权合约。\n",
    " \n",
    "虽然如此，塔尔斯当时储蓄很少，因此他几乎用尽了自己的积蓄。来年春天，橄榄果然获得大丰收，而每个人都想用压榨机。这时，泰利斯开始执行他的权利，并将压榨机以高价出租，获得了极为丰厚的回报。显然，期权交易早在公元前就已被社会所认可了。"
   ]
  },
  {
   "cell_type": "markdown",
   "id": "5fc66a5c-a0cc-4e8c-b533-4bd3483384fa",
   "metadata": {},
   "source": [
    "### 近代期权历史"
   ]
  },
  {
   "cell_type": "markdown",
   "id": "c822bb5e-339c-4cd3-9451-f2bcb4d0dc15",
   "metadata": {},
   "source": [
    "如果说公元前的期权交易还只是处于雏形，很多交易都是出于投机目的；那么在近代发生的期权交易就主要是为了管理价格波动风险。有记载的最早利用期权进行风险管理的事件发生在17世纪30年代末期的荷兰。"
   ]
  },
  {
   "cell_type": "markdown",
   "id": "2f52ce14-1984-4b3a-8107-48699fa94641",
   "metadata": {},
   "source": [
    "在17世纪，作为身份象征的郁金香受到了荷兰贵族的追捧，批发商们普遍出售郁金香的远期合约。由于从种植者处收购郁金香的成本价格无法事先确定，对于批发商而言，事先确定郁金香的售出价格需要承担较大的风险，因此一些批发商从种植者处购买郁金香期权，这种期权赋予其购买者在未来特定时期内，以约定的价格从种植者处购买郁金香的权利。"
   ]
  },
  {
   "cell_type": "markdown",
   "id": "5f81d4f5-a316-46e2-a221-6edbd3cbf3a6",
   "metadata": {},
   "source": [
    "这意味着购买了郁金香期权的批发商可以在未来根据郁金香的市场价格做出是否进货的选择：\n",
    "如果郁金香的市场价格高于期权合约的约定价格，则以合约约定价格从种植者处购入郁金香；如果郁金香的市场价格低于期权合约的约定价格，则批发商让期权合约过期作废，批发商能够以更加低廉的市场价格来购入郁金香。"
   ]
  },
  {
   "cell_type": "markdown",
   "id": "0a009cc7-3935-4fbd-b033-c199d66b8b62",
   "metadata": {},
   "source": [
    " \n",
    "从现代风险管理的观点来看，批发商这样的做法实际上是利用郁金香期权合约来对冲所持有的郁金香远期合约头寸的风险。"
   ]
  },
  {
   "cell_type": "markdown",
   "id": "6bda7162-e3bb-457d-a636-cf96b9d41041",
   "metadata": {},
   "source": [
    "但是后来人们的贪婪导致了人类历史上第一次有记载的金融泡沫——郁金香泡沫  \n",
    "\n",
    "1635年，一种叫Childer的郁金香品种单株卖到了1615弗罗林（florins，荷兰货币单位）。如果你想搞清楚这样一笔钱在17世纪早期荷兰的经济中是什么价值，你只需要知道4头公牛（与一辆拖车等值），只要花480弗罗林，而1000磅（约454公斤）奶酪也只需120弗罗林。可是，郁金香的价格还是继续上涨，第二年，一株稀有品种的郁金香（当时的荷兰全境只有两株）以4600弗罗林的价格售出，除此以外，购买者还需要额外支付一辆崭新的马车、两匹灰马和一套完整的马具。\n",
    "\n",
    "但是，所有的金融泡沫正如它们在现实世界中的名称所喻示的一样脆弱，当人们意识到这种投机并不创造财富，而只是转移财富时，总有人会清醒过来，这个时候，郁金香泡沫就该破灭了。在某个时刻，当某个无名小卒卖出郁金香——或者更有勇气些，卖空郁金香时，其他人就会跟从，很快，卖出的狂热将与此前购买的狂热不相上下。于是，价格崩溃了，成千上万的人在这个万劫不复的大崩溃中倾家荡产。"
   ]
  },
  {
   "cell_type": "markdown",
   "id": "40be8315-fc1d-473c-a9e1-3f6da1e98c76",
   "metadata": {},
   "source": [
    "### 现代期权发展"
   ]
  },
  {
   "cell_type": "markdown",
   "id": "6b1793fb-f87b-41de-a495-4db5631cd497",
   "metadata": {},
   "source": [
    "在18世纪末期，美国出现了第一个松散的期权市场，开始场外的股票期权交易。1973年，世界第一个期权交易所—芝加哥期权交易所（CBOE）成立，这标志着有组织的、标准化的期权交易时代的开始。"
   ]
  },
  {
   "cell_type": "markdown",
   "id": "234f37f7-5d14-4725-ba09-e8046ae42c85",
   "metadata": {},
   "source": [
    "  1983年（即美国堪萨斯期货交易所创造性的推出了第一只股票指数期货后的一年）CBOE与3月份推出了全球第一只指数期权——CBOE 100指数期权，后来改名为标普100指数（S&P100 Index），代号OEX。"
   ]
  },
  {
   "cell_type": "markdown",
   "id": "eb05c642-d405-4805-8c20-7dacfae96d30",
   "metadata": {},
   "source": [
    "参考： \n",
    "- 银河证券《期权的历史和发展》：https://www.yhqh.com.cn/show-444-4-1.html\n",
    "- 谈“郁金香泡沫”背后的经济运行原理与规律：https://zhuanlan.zhihu.com/p/33231867\n",
    "- 我国权证的早期历史：https://www.guayunfan.com/baike/929210.html"
   ]
  },
  {
   "cell_type": "markdown",
   "id": "07283267-4dee-403e-847b-16fb6b9bd958",
   "metadata": {},
   "source": [
    "## 期权的基本形式"
   ]
  },
  {
   "cell_type": "markdown",
   "id": "4fb3c4d2-8e4d-4214-83c7-aec94254ca1a",
   "metadata": {},
   "source": [
    "期权会约定一个执行价格X，看涨看跌期权有所不同：\n",
    "- 看涨期权，也叫call option，指未来可以以X价格买入该股票，所以如果股票价格超过X，期权就可以行权获取股票，然后到市场卖出获取收入\n",
    "- 看跌期权，也叫put option，指未来可以以X价格卖出该股票，所以如果股票价格小于X，期权就可以行权直接卖给期权的买方获取收入"
   ]
  },
  {
   "cell_type": "markdown",
   "id": "4c5ce417-e9d3-4673-b1b8-5b27be48ea5f",
   "metadata": {},
   "source": [
    "期权的买方和卖方的权利义务是：\n",
    "- 买方，也叫long方，会支付期权费用，但是可以决定不行权，所以损失最多就是期权费，收益相对无限  \n",
    "- 卖方，也叫short/written方，会收取期权费，但是如果买方行权自己必须被动接受，所以损失相对无限，但是收益有限。为了确定能够被行权，卖方还要支付一定的保证金，而买方不太需要"
   ]
  },
  {
   "cell_type": "markdown",
   "id": "03fb58a0-fe3d-4597-adc0-4c7836f62895",
   "metadata": {},
   "source": [
    "期权分为看涨期权和看跌期权，由于期权的买卖方权利是不对等的，所以能够形成不同的四象限收益：\n",
    "- Long call: $c_T=Max (0, S_T-X) – c_0$\n",
    "- Short call: $c_T=-Max (0, S_T-X) + c_0$\n",
    "- Long put: $p_T= Max (0, X-S_T) – p_0$\n",
    "- Short put: $p_T= -Max (0, X-S_T)+ p_0$  \n",
    "\n",
    "以上的S是行权日的股票价格，c/p是购买看涨/看跌期权时的支付的费用"
   ]
  },
  {
   "cell_type": "markdown",
   "id": "c8c304ec-68ca-4162-bd6e-34e070026ae4",
   "metadata": {},
   "source": [
    "![](./期权公式定价.assets/期权收益.png)"
   ]
  },
  {
   "cell_type": "markdown",
   "id": "d4512210-138c-4148-b7d1-ab4a3dd2d35d",
   "metadata": {},
   "source": [
    "通过上面的信息我们可以有一个基本的总结：\n",
    "- 1 期权的买卖方权利是不均衡的，买方支付权利金获取拥有更多的权利空间\n",
    "- 2 期权的买方相当于购买了一个保险，即如果价格往好的方向变动会获取很大的收益，卖方则相反\n",
    "- 3 期权的交易由于购买的是权利，有时候1个期权可能对应几倍或几十倍标的资产，其具备很高的杠杆性\n",
    "- 4 期权的权利是有期限的，到期如果不执行权利期权则作废"
   ]
  },
  {
   "cell_type": "markdown",
   "id": "dc93d58c-6090-4b79-ab23-fbe70fb501bb",
   "metadata": {},
   "source": [
    "## 192倍的期权"
   ]
  },
  {
   "cell_type": "markdown",
   "id": "bf1d911d-a405-4828-8b91-0b7a0eb61411",
   "metadata": {},
   "source": [
    "2019年的2月25号可以说是期权史上最疯狂的一天，这一只期权，它前一天的收盘价是0.003，深度虚值，因为一只期权它最低的价格是0.001，那么它只比最低的期权高一点点。那么到收盘涨了多少？\n",
    "\n",
    "由0.0003一直涨到收盘价0.0581，那么它的最终的涨幅是19,266%，也就是192倍。"
   ]
  },
  {
   "cell_type": "markdown",
   "id": "940da78b-6d36-423c-8bf5-03f333d1c053",
   "metadata": {},
   "source": [
    "![](./期权公式定价.assets/192倍.jpg)"
   ]
  },
  {
   "cell_type": "markdown",
   "id": "b7c059d1-534b-44da-931b-4318081a32bc",
   "metadata": {},
   "source": [
    "![](./期权公式定价.assets/straddle.png)"
   ]
  },
  {
   "cell_type": "markdown",
   "id": "c5171a67-15d1-4d52-a2aa-20b789d56dbc",
   "metadata": {},
   "source": [
    "## 离散时间定价-二叉树"
   ]
  },
  {
   "cell_type": "markdown",
   "id": "ec8a51a5-317f-40c3-91ff-7482916cd213",
   "metadata": {},
   "source": [
    "任何金融产品开始都需要一个定价，后续价格才交给市场。比如股票在IPO时候定价，债券在发行时定价，但是期权如何定价呢？"
   ]
  },
  {
   "cell_type": "markdown",
   "id": "b6324700-3438-46ef-955b-9b6c5aa7fd08",
   "metadata": {},
   "source": [
    "在早期，没有掌握高级的数学工具时，对于期权定价我们自然会想到利用金融中无套利定价的方式来进行定价。这种定价方式的无套利用一句话来概括就是：  \n",
    "- 股票涨跌带来的期权的期望收益 = 货币的时间价值（也即无风险利率）"
   ]
  },
  {
   "cell_type": "markdown",
   "id": "2c768206-cedf-4c78-af04-cb4d5cae16e1",
   "metadata": {},
   "source": [
    "为了理解货币的时间价值，需要我们看一下折现现金流模型"
   ]
  },
  {
   "cell_type": "markdown",
   "id": "610df1bd-cc60-42b8-911c-9014651f77ee",
   "metadata": {},
   "source": [
    "### 折现现金流模型-DCF"
   ]
  },
  {
   "cell_type": "markdown",
   "id": "4f5ec48f-90d7-4878-919d-9947e7e23a1a",
   "metadata": {},
   "source": [
    "![](./期权公式定价.assets/NPV.png)"
   ]
  },
  {
   "cell_type": "markdown",
   "id": "922f7f9c-7dd3-477a-9f29-5ea846af5589",
   "metadata": {},
   "source": [
    "抛开股票不谈，我们看一个衡量项目收益的通用指标NPV。**NPV**（net present value，净现值）指未来资金流入现值与未来资金流出现值的差额。其中CF指的是每一阶段的现金流（cash flow），r就是现金流的折现率。"
   ]
  },
  {
   "cell_type": "markdown",
   "id": "29477a15-423e-472c-ac20-ddc020562550",
   "metadata": {},
   "source": [
    "代入到一个商业住宅的项目，第一年我要雇人去建这个写字楼，之后每年收租，那么第一期的现金流CF0是一个巨额负数，之后每期CF1、CF2都是正数，而折现率是我做其他事情的**机会成本**，比如如果我不做这个项目，我的钱也是可以产生价值的，我可以全部买收益率为2%无风险的国债，那么每年我都能收到国债的本息，这种过程也可以称为**货币的时间价值的体现**。由于每期我都可以投资国债，所以我每期都要用现金流除以对应期数的国债收益率。最终我将每期的现金流加和就形成了NPV，如果NPV大于0，那么这个项目是可以投资的，最起码不会比直接买国债赚的少。"
   ]
  },
  {
   "cell_type": "markdown",
   "id": "aac9437e-fc73-4cf0-8ed5-d4420486ce19",
   "metadata": {},
   "source": [
    "这种计算NPV的方法我们一般称为**折现现金流模型（Discounted Cash Flow，DCF）**"
   ]
  },
  {
   "cell_type": "markdown",
   "id": "2befffac-763f-4cff-a3f9-c97b6cea37d6",
   "metadata": {},
   "source": [
    "### 一阶段二叉树"
   ]
  },
  {
   "cell_type": "markdown",
   "id": "88aff7b0-6f5a-4e12-b980-0b5546081a43",
   "metadata": {},
   "source": [
    "为了便于理解这个无套利的过程，我们可以举一个通用的例子：  \n",
    "假设存在某看涨期权，它的标的股票的价格在$T_0$阶段是$S_0$，执行价格为$X$，现在我们要对$T_0$阶段的这个看涨期权的价格$C_0$进行定价，这该怎么做呢？"
   ]
  },
  {
   "cell_type": "markdown",
   "id": "ee66af57-2df8-40e3-b0a3-4c9117b1e3e4",
   "metadata": {},
   "source": [
    "我们可以开始做金融定价的假设了，期权的价格依赖于其标的，所以我们要假设标的股票的价格变化：  \n",
    "- 我们假设到$T_1$阶段，标的股票价格有$\\pi_u$的概率增长为$S^+$，有$\\pi_d$的概率下降为$S^-$\n",
    "- 我们假设下跌幅度$d$和上涨幅度$u$的关系为$u = 1/d$\n",
    "- 我们假设无风险利率是$r_f$\n",
    "- 我们假设中间过程股票不分红\n",
    "- 执行价格$X$ = $S_0$(仅仅便于计算)"
   ]
  },
  {
   "cell_type": "markdown",
   "id": "53d52fc0-1de1-4836-bb5e-57a590b942ef",
   "metadata": {},
   "source": [
    "为了进一步便于大家理解，我们可以直接带入数值：\n",
    "- $S_0$ = $X$ = 20\n",
    "- $u$ = 1.25, $d$ = 0.8\n",
    "- $\\pi_u$ = $1- \\pi_d$ = 0.6  \n",
    "- $r_f$ = 7%"
   ]
  },
  {
   "cell_type": "markdown",
   "id": "8dbbca67-ea27-441b-a64e-7ca0afdd11b2",
   "metadata": {},
   "source": [
    "则根据行权价$X$，期权在$T_1$的价格为：\n",
    "- 股价上涨时，$C^+  = Max(0, 20 \\times 1.25 - 20) = 5$\n",
    "- 股价下跌时，$C^-  = Max(0, 20 \\times 0.8 - 20) = 0$  "
   ]
  },
  {
   "cell_type": "markdown",
   "id": "1b9a637c-bf51-4678-aac9-f7ebb43fdd68",
   "metadata": {},
   "source": [
    "基于这个上涨下跌，我们可以计算期望价格为：\n",
    "- $E(C)$ = $\\pi_u \\times C^+$ + $\\pi_d \\times C^- = 0.6 \\times 5 + 0.4 \\times 0 = 3$"
   ]
  },
  {
   "cell_type": "markdown",
   "id": "f8b2f309-5d98-420f-8712-3e34fda1a976",
   "metadata": {},
   "source": [
    "将其除以无风险利率："
   ]
  },
  {
   "cell_type": "markdown",
   "id": "3c413418-1493-4f03-bf65-78d1c3969a72",
   "metadata": {},
   "source": [
    "- $C_0$ = $\\frac{E(C)}{1+r_f} $ = $3 / (1+7\\%) = 2.80$"
   ]
  },
  {
   "cell_type": "markdown",
   "id": "b0d1022c-bb6f-446e-84f2-8d35e2c04298",
   "metadata": {},
   "source": [
    "![](./期权公式定价.assets/一阶段二叉树.png)"
   ]
  },
  {
   "cell_type": "markdown",
   "id": "9a8b965b-bd07-496b-8ebc-d9f6bfd657ba",
   "metadata": {},
   "source": [
    "### 二阶段二叉树"
   ]
  },
  {
   "cell_type": "markdown",
   "id": "05708e4b-132f-4ed8-a793-72760a5f892a",
   "metadata": {},
   "source": [
    "既然我们可以看$T_1$时刻的二叉树来定价，那么为什么不能看$T_2$时刻呢？这就是二阶段的二叉树，这个过程和一阶段二叉树完全一样"
   ]
  },
  {
   "cell_type": "markdown",
   "id": "25eec429-7cfe-4c49-8b9d-02eab953003a",
   "metadata": {},
   "source": [
    "我们可以带入上面案例的数值，来试着计算二阶段的结果是如何：  \n",
    "- $S_0$ = $X$ = 20\n",
    "- $u$ = 1.25, $d$ = 0.8\n",
    "- $\\pi_u$ = $1- \\pi_d$ = 0.6  \n",
    "- $r_f$ = 7%"
   ]
  },
  {
   "cell_type": "markdown",
   "id": "164eb45b-1afd-427b-a182-159c6d36892e",
   "metadata": {},
   "source": [
    "则根据行权价$X$，期权在$T_2$的价格为：\n",
    "- 股价连续上涨时，$C^{++}  = Max(0, 20 \\times 1.25 \\times 1.25 - 20) = 11.25$\n",
    "- 股价先涨后跌时，$C^{+-}  = Max(0, 20 \\times 1.25 \\times 0.8  - 20) = 0$  \n",
    "- 股价先跌后涨时，$C^{-+}  = Max(0, 20 \\times 0.8 \\times 1.25  - 20) = 0$  \n",
    "- 股价连续下跌时，$C^{--}  = Max(0, 20 \\times 0.8 \\times 0.8  - 20) = 0$  "
   ]
  },
  {
   "cell_type": "markdown",
   "id": "f78f8c9a-48f6-423f-aee9-69f9b50a4909",
   "metadata": {},
   "source": [
    "基于这个上涨下跌，我们可以计算期望价格为：\n",
    "- $E(C)$ = $\\pi_u \\times \\pi_u \\times C^{++}$ = 4.05"
   ]
  },
  {
   "cell_type": "markdown",
   "id": "f7be99ec-9bb1-40ef-b49e-29950c917042",
   "metadata": {},
   "source": [
    "将其除以无风险利率："
   ]
  },
  {
   "cell_type": "markdown",
   "id": "bd7b8545-e20e-4df1-95cc-73d6911343d5",
   "metadata": {},
   "source": [
    "- $C_0$ = $\\frac{E(C)}{(1+r_f)^2} $ = $4.05 / (1+7\\%)^2 = 3.54$"
   ]
  },
  {
   "cell_type": "markdown",
   "id": "14b47148-67df-44ae-9a49-26efe0a21107",
   "metadata": {},
   "source": [
    "![](./期权公式定价.assets/二阶段二叉树.png)"
   ]
  },
  {
   "cell_type": "markdown",
   "id": "0ce83cb6-0d33-4b1e-9cbb-c0c9f7e888b1",
   "metadata": {},
   "source": [
    "### N阶二叉树"
   ]
  },
  {
   "cell_type": "markdown",
   "id": "ddd89c6b-9965-47d9-8247-2d4639e92c36",
   "metadata": {},
   "source": [
    "很快我们想到是否可以计算N阶段的二叉树的估值？这用编程很容易实现"
   ]
  },
  {
   "cell_type": "code",
   "execution_count": 3,
   "id": "d2507a3f-a053-487c-bf4e-1137c4375837",
   "metadata": {},
   "outputs": [],
   "source": [
    "import warnings\n",
    "import pandas as pd\n",
    "import matplotlib.pyplot as plt\n",
    "warnings.filterwarnings('ignore') "
   ]
  },
  {
   "cell_type": "code",
   "execution_count": 13,
   "id": "9a1f4a36-a42a-4ffd-852b-a68dc539bfd6",
   "metadata": {},
   "outputs": [],
   "source": [
    "def get_call_price(S, u, d, N, T, pi_u, pi_d, prob):\n",
    "    # 先定义二叉树\n",
    "    def get_price_tree(S, u, d, N, T, pi_u, pi_d, prob, res):\n",
    "        Su = S * u\n",
    "        Sd = S * d\n",
    "        Pu = prob * pi_u\n",
    "        Pd = prob * pi_d\n",
    "        # 存储递归过程中的结果\n",
    "        res.append({'price': Su, 'depth': T, 'prob': Pu})\n",
    "        res.append({'price': Sd, 'depth': T, 'prob': Pd})\n",
    "        if T < N:\n",
    "            # 递归计算，传入不同值\n",
    "            get_price_tree(Su, u, d, N, T+1, pi_u, pi_d, Pu, res)\n",
    "            get_price_tree(Sd, u, d, N, T+1, pi_u, pi_d, Pd, res)\n",
    "    # 开始传值\n",
    "    res = []\n",
    "    get_price_tree(S, u, d, N, T, pi_u, pi_d, prob, res)\n",
    "    tree_pandas = pd.DataFrame(res)\n",
    "    # 获取最后一阶段的价格\n",
    "    max_depth_pandas = tree_pandas[tree_pandas['depth'] == N] \n",
    "    # 和行权价格X比较\n",
    "    max_depth_pandas['call_price'] = max_depth_pandas['price'].apply(lambda x : x - X if x > X else 0)\n",
    "    # 计算最后一阶段的价格*概率，并求和，则为FV\n",
    "    future_value = (max_depth_pandas['call_price'] * max_depth_pandas['prob']).sum()\n",
    "    # 计算折现现值PV\n",
    "    present_value = future_value / (1+rf) ** N\n",
    "    # 返回现值和股票价格二叉树\n",
    "    return present_value, tree_pandas"
   ]
  },
  {
   "cell_type": "markdown",
   "id": "69dff7cb-1710-4585-8d11-72d5bf8a066c",
   "metadata": {},
   "source": [
    "这里采用了和之前一样的数值，仅仅变化N"
   ]
  },
  {
   "cell_type": "code",
   "execution_count": 14,
   "id": "ee5486a4-9d20-40ec-8c77-596200f43849",
   "metadata": {},
   "outputs": [],
   "source": [
    "S = 20\n",
    "u = 1.25\n",
    "d = 1 / u\n",
    "pi_u = 0.6\n",
    "pi_d = 1 - pi_u\n",
    "prob = 1\n",
    "T = 1 # 从第几阶段开始\n",
    "# N = 10 # 一共预测几阶段\n",
    "X = S\n",
    "rf = 0.07"
   ]
  },
  {
   "cell_type": "markdown",
   "id": "f9c41464-6467-4818-b9dd-5f249f897b74",
   "metadata": {},
   "source": [
    "可以作图看看10阶段的二叉树的股票价格分布"
   ]
  },
  {
   "cell_type": "code",
   "execution_count": 17,
   "id": "c1ce675c-f2bb-44b5-b271-976e86d7b63b",
   "metadata": {},
   "outputs": [],
   "source": [
    "_ , tree = get_call_price(S, u, d, 10, T, pi_u, pi_d, prob)"
   ]
  },
  {
   "cell_type": "code",
   "execution_count": 18,
   "id": "2ca18cae-1235-4342-9783-75c626f4a640",
   "metadata": {},
   "outputs": [
    {
     "data": {
      "text/plain": [
       "Text(0.5, 1.0, 'Stock Price via Different Stage')"
      ]
     },
     "execution_count": 18,
     "metadata": {},
     "output_type": "execute_result"
    },
    {
     "data": {
      "image/png": "[encoded data removed]",
      "text/plain": [
       "<Figure size 432x288 with 1 Axes>"
      ]
     },
     "metadata": {
      "needs_background": "light"
     },
     "output_type": "display_data"
    }
   ],
   "source": [
    "plt.scatter(tree['depth'], tree['price'])\n",
    "plt.xlabel('stage')\n",
    "plt.ylabel('stock price')\n",
    "plt.title('Stock Price via Different Stage')"
   ]
  },
  {
   "cell_type": "code",
   "execution_count": 102,
   "id": "2070837a-9211-4889-8fbc-9edf165f9e9a",
   "metadata": {},
   "outputs": [],
   "source": [
    "N_list = range(1, 10)\n",
    "call_price_list = []\n",
    "for N in N_list:\n",
    "    call_price, _ = get_call_price(S, u, d, N, T, pi_u, pi_d, prob, res)\n",
    "    call_price_list.append(call_price)"
   ]
  },
  {
   "cell_type": "markdown",
   "id": "9b5f00cd-9360-4660-83dc-75076fefd3b3",
   "metadata": {},
   "source": [
    "根据下图中结果可以看到，阶段数越高，看涨期权的价格越高，证明期权的价格和其存续时间是显著正相关的  \n",
    "但是期权是有**存续时间**的，大部分期权可能最长都不超过1年，所以你预估10阶段的可能性不高，这里10阶段相当于10年"
   ]
  },
  {
   "cell_type": "code",
   "execution_count": 96,
   "id": "5a52f95a-d281-4c6c-b87a-346230c8d4d0",
   "metadata": {},
   "outputs": [
    {
     "data": {
      "text/plain": [
       "Text(0.5, 1.0, 'Call Price Valuation via Different Stage Tree')"
      ]
     },
     "execution_count": 96,
     "metadata": {},
     "output_type": "execute_result"
    },
    {
     "data": {
      "image/png": "[encoded data removed]",
      "text/plain": [
       "<Figure size 432x288 with 1 Axes>"
      ]
     },
     "metadata": {
      "needs_background": "light"
     },
     "output_type": "display_data"
    }
   ],
   "source": [
    "plt.plot(T_list, call_price_list)\n",
    "plt.xlabel('stage')\n",
    "plt.ylabel('call price')\n",
    "plt.title('Call Price Valuation via Different Stage Tree')"
   ]
  },
  {
   "cell_type": "markdown",
   "id": "26699f86-245d-48a4-be86-a39d7da69bb7",
   "metadata": {},
   "source": [
    "如果一个期权只能在第二年行权，看来我们用二叉树计算估值倒也可以，但是期权中还有一大类是可以在任意时间行权的：\n",
    "- 欧式期权只能在最后到期日行权，美式期权可以在到期日前任意交易时间行权"
   ]
  },
  {
   "cell_type": "markdown",
   "id": "74dc90d3-2676-4d89-930f-c269081cb2cc",
   "metadata": {},
   "source": [
    "那么问题来了？我们如何对这种每时每刻都需要重新估值美式期权进行定价呢？或者说，我们如何更精确的估算1年内（1-stage）的期权的价格？  \n",
    "很快我们类比了金融计算复利的方式，从而联想到微积分的方法：\n",
    "- 我们可以将这个这1年不断拆细，拆成一个一个$\\Delta t$，然后计算每个$\\Delta t$时间的期权价值\n",
    "- 可是随之而来的问题是，之前假设的$u, d, \\pi_u, \\pi_d$都要跟着调整，毕竟那是站在一年的时间假设的离散型变量"
   ]
  },
  {
   "cell_type": "markdown",
   "id": "2e57fbe6-da14-4b6e-bc78-b03e82c994e0",
   "metadata": {},
   "source": [
    "## 连续时间定价-BSM"
   ]
  },
  {
   "cell_type": "markdown",
   "id": "c61b4c57-05c5-402a-a29a-f9465f4a9ca7",
   "metadata": {},
   "source": [
    "布莱克-斯科尔斯模型，描述金融市场并对金融市场中的金融衍生产品进行定价的一种数学模型。1973年由美国经济学家布莱克和斯科尔斯（Myron Scholes，1941-）提出，故称。美国经济学家莫顿（Rpbert C. Merton，1944—）对此模型进行了数学解释，故该模型又称“布莱克-斯科尔斯-莫顿模型”。该模型的要点是：假设标的物的价格符合对数正态分布，通过用标的物来完全对冲期权消除风险的方法构建一个无风险资产组合，该资产组合的收益应等同于无风险收益，从而得到一个偏微分方程。该方程的解即为期权定价公式，通常称为布莱克-斯科尔斯定价公式。\n",
    "\n",
    "有时候也叫BS公式：BS写了论文，Merton也写了论文，前后差了没多久，都解出了微分方程，用了两种不同的方式。\n",
    "\n",
    "最著名的金融公式——布莱克-斯科尔斯公式：https://baijiahao.baidu.com/s?id=1665539640581274539&wfr=spider&for=pc"
   ]
  },
  {
   "cell_type": "markdown",
   "id": "817457ae-a30a-4ee4-b5c9-3eadfc397013",
   "metadata": {},
   "source": [
    "### 正态分布"
   ]
  },
  {
   "cell_type": "markdown",
   "id": "947ce2c2-ca9e-4e63-a599-6177e035cdb5",
   "metadata": {},
   "source": [
    "- 高尔顿板、小球，二项分布->正态分布，杨辉三角  \n",
    "https://www.bilibili.com/video/BV1kv411r7UD  \n",
    "- Wallis公式  \n",
    "https://zhuanlan.zhihu.com/p/417186205\n",
    "- 斯特林公式  \n",
    "https://zhuanlan.zhihu.com/p/418089606\n",
    "- 棣莫弗-拉普拉斯定理  \n",
    "https://www.zhihu.com/question/276928259/answer/468771734"
   ]
  },
  {
   "cell_type": "code",
   "execution_count": 42,
   "id": "c2373d7e-1431-452e-b75e-ddf1d3048553",
   "metadata": {},
   "outputs": [],
   "source": [
    "import numpy as np"
   ]
  },
  {
   "cell_type": "code",
   "execution_count": 48,
   "id": "33549e2c-43d5-4055-8edb-b3d0d2b5ee45",
   "metadata": {},
   "outputs": [],
   "source": [
    "def get_final_price(S, N, delta):\n",
    "    return S + np.random.choice([delta, -delta], N, [0.5, 0.5]).sum()"
   ]
  },
  {
   "cell_type": "code",
   "execution_count": 83,
   "id": "f3779abe-fe5f-42a6-bf1d-a12ed75708cd",
   "metadata": {},
   "outputs": [
    {
     "data": {
      "text/plain": [
       "<BarContainer object of 37 artists>"
      ]
     },
     "execution_count": 83,
     "metadata": {},
     "output_type": "execute_result"
    },
    {
     "data": {
      "image/png": "[encoded data removed]",
      "text/plain": [
       "<Figure size 432x288 with 1 Axes>"
      ]
     },
     "metadata": {
      "needs_background": "light"
     },
     "output_type": "display_data"
    }
   ],
   "source": [
    "price_list = []\n",
    "for i in range(10000):\n",
    "    price_list.append(get_final_price(10, 100, 1))\n",
    "price_dist = pd.Series(price_list).value_counts()\n",
    "plt.bar(price_dist.index, price_dist.values)"
   ]
  },
  {
   "cell_type": "markdown",
   "id": "e9f7b94d-245e-4c0a-a7ba-1831c2c7921f",
   "metadata": {},
   "source": [
    "### 马尔科夫过程"
   ]
  },
  {
   "cell_type": "markdown",
   "id": "9c79108f-d557-4488-8077-c2179521e15f",
   "metadata": {},
   "source": [
    "标的变量未来的预测仅仅与标的变量的当前值有关，变量的历史值以及变量从过去到现在的演变方式与未来的预测均无关"
   ]
  },
  {
   "cell_type": "markdown",
   "id": "090f4483-62b5-431c-870e-808f226411c0",
   "metadata": {},
   "source": [
    "举例：\n",
    "- 被切除大脑失去记忆的白鼠\n",
    "- 过去的股票价格不会影响未来股价的预测（在确定股票价格所服从的随机过程特性时，其历史数据的统计特性如波动率也许有用，这里仅仅是说明股票的未来价格与过往价格无关）"
   ]
  },
  {
   "cell_type": "markdown",
   "id": "189a46a5-9ba0-4178-b308-7f70c9037b82",
   "metadata": {},
   "source": [
    "### 维纳过程"
   ]
  },
  {
   "cell_type": "markdown",
   "id": "97b24570-063a-443c-a290-3da90200a73d",
   "metadata": {},
   "source": [
    "维纳过程是是期望值为0,、方差为1的特殊的马尔科夫过程，曾在物理学中用来描述一个粒子受到大量小分子碰撞后所产生的的运动  \n",
    "该现象最早是由苏格兰植物学家罗伯特·布朗在观察花粉以及其他悬浮微小颗粒在水中不停地做不规则的曲线运动时发现的，所以这种运动也被称为布朗运动"
   ]
  },
  {
   "cell_type": "markdown",
   "id": "f9deddc7-7a20-4364-be0b-0a0852a512c9",
   "metadata": {},
   "source": [
    "- 性质1：变量$x$在瞬时$\\Delta t$的变换量$\\Delta x$满足等式：$\\Delta x = \\varepsilon \\sqrt{\\Delta t}$  \n",
    "其中$\\varepsilon$服从标准正态分布$N(0,1)$，同时$\\Delta t$可以视为常数，因此$\\Delta t$也服从$N(0,\\sqrt{\\Delta t})$\n",
    "- 性质2：在任何两个不相重叠的$\\Delta t$时间内，变化量$\\Delta x$之间是相互独立的，这个性质就说明变量$x$服从马尔科夫过程"
   ]
  },
  {
   "cell_type": "markdown",
   "id": "dcf987ed-0be1-4a34-bbed-16566f70e0c7",
   "metadata": {},
   "source": [
    "接着考虑在一段相对较长时间区间$T$内变量$x$的变化，这里将变化量表述为$x_T - x_0$，可以看成是$N$个区间长度为$\\Delta t$的$x$变化量总和：  \n",
    "$x_T - x_0 = \\sum_{i=1}^N\\varepsilon_i\\sqrt{\\Delta t}$，其中$N=T/\\Delta t$,$\\varepsilon_i$依然服从标准正态分布  \n",
    "由于性质2，所以不同的$\\varepsilon_i$之间是相互独立的，因此$\\sum_{i=1}^N\\varepsilon_i\\sqrt{\\Delta t}$的标准差为$\\sqrt{N \\Delta t} = \\sqrt{T}$，所以整体服从服从$N(0,\\sqrt{T})$的分布"
   ]
  },
  {
   "cell_type": "markdown",
   "id": "4140720a-356d-4396-84a9-d4e7e3a36892",
   "metadata": {},
   "source": [
    "在随机过程中，在每单位时间$\\Delta t$内变量变化的期望值称为变量的漂移率(drift rate)，变化的方差称为变量的方差率(variance rate)，因此维纳过程的漂移率为0、方差率为1   \n",
    "漂移率意味着在将来任意时刻变量$x$的期望值等于其当前值；方差率等于1意味着在任意长度为$T$的时间区间内，$x$变化的方差等于$T$"
   ]
  },
  {
   "cell_type": "markdown",
   "id": "41922de0-a10e-42a7-bb96-63c2c80c2a84",
   "metadata": {},
   "source": [
    "### 广义维纳过程"
   ]
  },
  {
   "cell_type": "markdown",
   "id": "03324852-c72f-42c1-bdad-9bc8127a8c1b",
   "metadata": {},
   "source": [
    "如果变量$y$服从广义维纳过程，则可以表示为：$dy = adt+bdx$，其中$a、b$均为常数  "
   ]
  },
  {
   "cell_type": "markdown",
   "id": "6b65b15d-fb4e-44b3-b7b0-787e651de2b1",
   "metadata": {},
   "source": [
    "- 等式右边的$adt$说明变量$y$在单位时间$\\Delta t$内的漂移率为$a$，如果忽略$bdx$，后面的项目则退化为：$dy = adt$  \n",
    "积分可得$y = y_0 + at$，其中$y_0$是$y$在$t=0$时刻的$y$的初始值，$at$说明经过了时间$T$以后变量$y$的增量就是$aT$\n",
    "- 等式右边的$bdx$可以被看成附加在变量$y$路径上的噪声，幅度为维纳过程的$b$倍，由于维纳过程的标准差为1，则b倍维纳过程在单位时间内的的方差率就等于$b^2$  \n",
    "因此广义维纳过程的漂移率为$a$，方差率为$b^2$  "
   ]
  },
  {
   "cell_type": "markdown",
   "id": "da50ae7a-67d0-4af3-b579-3ca1f1128704",
   "metadata": {},
   "source": [
    "通过离散化表达，可以得到：$\\Delta y = a\\Delta t + b\\varepsilon \\sqrt{\\Delta t}$，进而得到$\\Delta y $服从$N(a\\Delta t, b\\sqrt{\\Delta t})$  \n",
    "此外根据维纳过程的性质2，则可以得到$y_T-y_0$也服从$N(aT, b\\sqrt{T})$的分布"
   ]
  },
  {
   "cell_type": "markdown",
   "id": "a492f513-9eeb-463c-90dd-8e911f2cece4",
   "metadata": {},
   "source": [
    "### 股票价格和几何布朗运动"
   ]
  },
  {
   "cell_type": "markdown",
   "id": "acff2469-aee0-4cdb-82f5-b8bef1327f09",
   "metadata": {},
   "source": [
    "- https://www.bilibili.com/video/BV1kb4y1d71U   \n",
    "1827布朗，1905爱因斯坦证明。水分子对花粉的不同方向的撞击个数和冲击力不同，导致悬浮微粒的不规则运动  \n",
    "记录运动轨迹，发现是无规则的，升高温度会发生什么？和扩散现象类似，温度越高无规则越剧烈  \n",
    "只有显微镜下才能看到悬浮微粒，微粒大小要在微米数量级，太大各方向的撞击效果会被抵消，体积大的质量也变大，每次撞击的速度变化也几乎为零    \n",
    "纸棒点燃可以看到烟雾颗粒的布朗运动，雾霾的PM2.5在空气也是布朗运动\n",
    "- 类比：股票价格被信息冲击，越是大公司的股价波动率越低，除非信息冲击足够大"
   ]
  },
  {
   "cell_type": "markdown",
   "id": "2cfde37b-8b85-4412-85c6-9b70b7401db6",
   "metadata": {},
   "source": [
    "- 股票价格是否具备不变的漂移率$a$和不变的方差率$b^2$？  \n",
    "广义维纳过程违背了投资者要求的预期收益率而不是股票价格的事实，比如预期收益率为20%，股价为5元则股价漂移率为$a$=1元/股，股价为10元则股价漂移率为$a$=2元/股  "
   ]
  },
  {
   "cell_type": "markdown",
   "id": "4eaba1d5-5a20-40f1-90db-e0174471b74c",
   "metadata": {},
   "source": [
    "- 股票收益率的期望值作为常数更合理 - 漂移率$a$  \n",
    "股票价格为$S$，股价的漂移率可以是$\\mu S$，其中$\\mu $是股票收益率的期望值，并且是常数，根据广义维纳过程的结论，这意味着在单位时间$\\Delta t$内股价的期望增量为$\\mu S\\Delta t$"
   ]
  },
  {
   "cell_type": "markdown",
   "id": "2274b40e-4b39-4798-bd15-29787174ff04",
   "metadata": {},
   "source": [
    "- 合理的假设：无论股价多少，在一个较短时间$\\Delta t$内股票收益率的波动率都是相同的 - 方差率$b^2$  \n",
    "无论股价多少，投资者对股票收益率的波动率(不确定性)持有相同的预期，所以在较短时间$\\Delta t$股票价格的标准差应该与股票价格成正比"
   ]
  },
  {
   "cell_type": "markdown",
   "id": "09808409-8fe3-408a-bab9-48ed93fa77a9",
   "metadata": {},
   "source": [
    "因为得出股票价格服从随机过程模拟：$dS = \\mu Sdt + \\sigma Sdx$  \n",
    "等式两边同除以$S$，可以得到：$\\frac{dS}{S} = \\mu dt + \\sigma dx$，其中参数$\\mu$是股票收益率的期望值，参数$\\sigma$是股票收益率的波动率  \n",
    "这个式子是用于描述股票价格最广泛的一种随机模型，该模型被称为几何布朗运动  "
   ]
  },
  {
   "cell_type": "markdown",
   "id": "3695a75a-083d-45a8-a5af-08d41f5b7b1a",
   "metadata": {},
   "source": [
    "离散形式为：$\\frac{\\Delta S}{S} = \\mu \\Delta t + \\sigma \\varepsilon \\sqrt{\\Delta t }$  \n",
    "因此$\\frac{\\Delta S}{S}$服从$N(\\mu \\Delta t, \\sigma \\sqrt{\\Delta t })$  \n"
   ]
  },
  {
   "cell_type": "markdown",
   "id": "86163e02-d8cf-4997-866d-d56b4b055b85",
   "metadata": {},
   "source": [
    "### 伊藤公式"
   ]
  },
  {
   "cell_type": "markdown",
   "id": "a0c732bf-593f-42e3-a622-dd16ac3d696a",
   "metadata": {},
   "source": [
    "https://www.bilibili.com/video/BV1Cv411b7LW"
   ]
  },
  {
   "cell_type": "markdown",
   "id": "45d4e701-555c-4256-b227-f266d76e3566",
   "metadata": {},
   "source": [
    "欧式看涨期权的价格f满足微分公式："
   ]
  },
  {
   "cell_type": "markdown",
   "id": "516e7662-f3b2-40ff-a51b-44f2725b96e7",
   "metadata": {},
   "source": [
    "$$\\frac{\\partial f}{\\partial t} + rS\\frac{\\partial f}{\\partial S} + \\frac{1}{2}\\sigma^2 S^2 \\frac{\\partial^2 f}{\\sigma S^2} = rf$$"
   ]
  },
  {
   "cell_type": "markdown",
   "id": "95b286b3-1079-4b67-b67f-d43dd779123d",
   "metadata": {},
   "source": [
    "### BSM推导"
   ]
  },
  {
   "cell_type": "markdown",
   "id": "f2da189c-c400-4f1d-935e-6cfd6ed84db0",
   "metadata": {},
   "source": [
    "BSM推导1：https://www.bilibili.com/video/BV13m4y1Q7No  \n",
    "BSM推导2：https://www.bilibili.com/video/BV1B44y177zk"
   ]
  },
  {
   "cell_type": "markdown",
   "id": "b8aad1ff-c3db-4c31-8d8a-1fa422f433eb",
   "metadata": {},
   "source": [
    "假设：\n",
    "- 1 $dS_t = \\mu S_td_t + \\sigma S_t dz_t$\n",
    "- 2 借助Ito lemma\n",
    "- 3 $dlnS_t = (\\mu - 1/2 \\sigma_2)dt+ \\sigma dz_t$，而$dz_t = \\varepsilon_t\\sqrt{dt}$，$\\varepsilon_t$服从$N(0, 1)$\n",
    "\n",
    "- 4 $\\Delta lnS_t = (\\mu - 1/2 \\sigma_2)\\Delta t + \\sigma \\Delta z_t$ = $lnS_T - lnS_t$，而$\\Delta z_t$服从$N(0, \\Delta t)$\n",
    "- 5 $lnS_T - lnS_t$服从$N((\\mu - 1/2 \\sigma_2)(T-t), \\sigma^2(T-t))$，而当前股价$lnS_t$已知，则$lnS_T$服从$N(lnS_t + (\\mu - 1/2 \\sigma_2)(T-t), \\sigma^2(T-t))$ \n",
    "- 6 $C_t = e^{-r(T-t)}E(max(S_T-K, 0))$"
   ]
  },
  {
   "cell_type": "markdown",
   "id": "1cde7c4d-c39d-41e3-ab12-befb0d951631",
   "metadata": {},
   "source": [
    "- 7 $\\int^{+\\infty}_{-\\infty}max(S_T-K, 0)f(S_T)dS_T$ = $\\int^{+\\infty}_{X}S_Tf(S_T)dS_T$ - $\\int^{+\\infty}_{X}Kf(S_T)dS_T$ = $I_1 - I_2$"
   ]
  },
  {
   "cell_type": "markdown",
   "id": "02602f00-e46e-43b0-9f46-a291bab0ebfe",
   "metadata": {},
   "source": [
    "- 8 根据5，$lnS_T$的概率密度函数pdf，令$m = lnS_t + (r-1/2\\sigma^2)(T-t)$，$\\delta^2 = \\sigma^2(T-t)$，则$pdf(lnS_t) = \\frac{1}{\\sqrt{2\\pi}\\delta}e^{-\\frac{1}{2}\\frac{(lnS_T-m)^2}{\\delta^2}}$"
   ]
  },
  {
   "cell_type": "markdown",
   "id": "d5ccedf1-e64a-4a45-8126-a5f7d384e543",
   "metadata": {},
   "source": [
    "![](./期权公式定价.assets/BSM.png)"
   ]
  },
  {
   "cell_type": "markdown",
   "id": "0fadf161-00ab-497e-a2ce-856260efd4c5",
   "metadata": {},
   "source": [
    "不同参数有如下含义：\n",
    "- $S_t$  在时点t的标的物价格水平；\n",
    "- σ  标的物固定波动率（也就是收益的标准差）；\n",
    "- K 期权行权价格；\n",
    "- T 期权到期日；\n",
    "- r 固定无风险短期利率；\n"
   ]
  },
  {
   "cell_type": "markdown",
   "id": "f6b615f6-9ab3-47df-8333-685fbe71a9a8",
   "metadata": {},
   "source": [
    "## 希腊字母"
   ]
  },
  {
   "cell_type": "markdown",
   "id": "a44fd768-40e1-46d9-b849-44959ed5e171",
   "metadata": {},
   "source": [
    "根据BSM公式可以对每个参数进行求导，形成5个希腊字母"
   ]
  },
  {
   "cell_type": "markdown",
   "id": "e0da9905-c6fd-4594-b2f7-1b7d0cbe9697",
   "metadata": {},
   "source": [
    "![](./期权公式定价.assets/希腊字母.jpg)"
   ]
  },
  {
   "cell_type": "markdown",
   "id": "0226bdc7-bf59-4fa3-8393-7516ab786029",
   "metadata": {},
   "source": [
    "## 隐含波动率"
   ]
  },
  {
   "cell_type": "markdown",
   "id": "da98036a-9895-447d-a5c8-4e61c2de05e0",
   "metadata": {},
   "source": [
    "根据BSM公式可以求得隐含波动率，它是未来价格变化的预期程度。隐含波动率广泛地反映了在特定时间范围内预期的波动大小。另一方面，历史波动率或已实现波动率表示先前价格变化的实际规模。历史波动率说明了已经发生的市场走势的总体波动水平。"
   ]
  },
  {
   "cell_type": "markdown",
   "id": "f98f8058-3199-48e4-af38-55f699e9e456",
   "metadata": {},
   "source": [
    "例如，著名的波动率指数（VIX）就是标准普尔500指数期权价格30天隐含波动率读数。"
   ]
  },
  {
   "cell_type": "markdown",
   "id": "e6199928-0c3c-4deb-8b0e-90629fbfe07f",
   "metadata": {},
   "source": [
    "![](./期权公式定价.assets/隐含波动率.jpg)"
   ]
  },
  {
   "cell_type": "markdown",
   "id": "225e7db8-84b2-40de-a7e9-782dfb5b5f49",
   "metadata": {},
   "source": [
    "# 期权实务知识"
   ]
  },
  {
   "cell_type": "markdown",
   "id": "4f018644-5145-4f80-a47a-5d32c1bfcd64",
   "metadata": {},
   "source": [
    "## 实务基础知识"
   ]
  },
  {
   "cell_type": "markdown",
   "id": "fa11b3c0-cd31-4c50-ad45-92123883b262",
   "metadata": {},
   "source": [
    "### 期权实务分类"
   ]
  },
  {
   "cell_type": "markdown",
   "id": "a53a32ec-ab8f-43c4-a25d-bb61a4a42b7e",
   "metadata": {},
   "source": [
    "- 认购/认沽期权"
   ]
  },
  {
   "cell_type": "markdown",
   "id": "e9b94d9a-2ed4-40b2-9479-9b5c342608b5",
   "metadata": {},
   "source": [
    "- 欧式/美式期权  \n",
    "欧式：其中**50ETF、300ETF的到期日是每个月的第四个星期三，只能在这一天进行交割**  \n",
    "美式：如豆粕白糖橡胶等商品期权的持仓量不多，尤其在虚值转实值后，持仓量都只有几百张，买卖点差很大，如果在二级市场进行期权交易就有损失，但是美式期权可以马上行权，将商品期权转换成期货品种后再进行交易，提高了期权的流动性"
   ]
  },
  {
   "cell_type": "markdown",
   "id": "508463d5-71de-4ffc-a84e-a10a1e5a39d5",
   "metadata": {},
   "source": [
    "- 现货/期货期权  \n",
    "50ETF是现货期权，期货行权后得到是期货合约，如沪铜、棉花"
   ]
  },
  {
   "cell_type": "markdown",
   "id": "29951c5d-c7eb-4d43-8063-f531b1977e2f",
   "metadata": {},
   "source": [
    "- 场外/场内期权  \n",
    "场外主要针对机构投资者，场内合约标准阿虎"
   ]
  },
  {
   "cell_type": "markdown",
   "id": "a3bb4a2e-6ded-4f9e-8dfd-83b3e8185c5f",
   "metadata": {},
   "source": [
    "### 期权的现状和未来"
   ]
  },
  {
   "cell_type": "markdown",
   "id": "006e3a4b-c390-4244-87ef-b058f37610a2",
   "metadata": {},
   "source": [
    "国外的期权品种已经非常丰富了，从全球金融市场的角度看，场内期权按照标的资产衍生路径的差异，可将其分为股票期权（包含个股期权、ADR期权、ETF期权）、股指期权、股指期货期权、债券期货期权、利率期货期权、商品期货期权、外汇期权和外汇期货期权等。"
   ]
  },
  {
   "cell_type": "markdown",
   "id": "c31331fb-6504-4f95-aede-73a3d96a62f8",
   "metadata": {},
   "source": [
    "国内的期权可以说是方兴未艾，随着**2015年上证50ETF期权的推出，我国金融市场进入了期权时代**，期权是交易者必争的制高点，且近几年持续推出了豆粕、白糖、铜、棉花、玉米、橡胶等品种的期权，**截止到2020年10月，共有22个期权交易品种**，所以期权交易的思路也会发生一些变化。在2019年2月25日的百度指数中，期权关键词的搜索指数出现了暴涨，因为在当天，有的期权合约暴涨了19267%。在这之后期权价格出现了明显的上升，很多投资者“跑步”入场，给市场带来了很多新鲜“血液”，让期权市场在不知不觉中发生了新的变化。"
   ]
  },
  {
   "cell_type": "markdown",
   "id": "07f4d4fa-2a9c-40ba-a5a5-efd16be44ba9",
   "metadata": {},
   "source": [
    "### 期权的基本要素"
   ]
  },
  {
   "cell_type": "markdown",
   "id": "546d725c-1c52-44a4-acce-d6b24e0141ee",
   "metadata": {},
   "source": [
    "- 合约方向  "
   ]
  },
  {
   "cell_type": "markdown",
   "id": "2a263b61-73c4-4d82-9fbd-d46e0baf1687",
   "metadata": {},
   "source": [
    "- 行权价格"
   ]
  },
  {
   "cell_type": "markdown",
   "id": "bf676feb-4f91-4447-94c2-c2a77ad62194",
   "metadata": {},
   "source": [
    "- 行权价间距  \n",
    "不同合约间距不同：  \n",
    "300ETF的价格在5元/张以下时，行权价以0.1元为一档  \n",
    "50ERF的价格在3元/张以下时，行权价以0.05元为一档；3元以上时，以0.1元为一档  \n",
    "橡胶价格在10000元以上时，行权价以250元为一档，10000元以下时，以100元为一档"
   ]
  },
  {
   "cell_type": "markdown",
   "id": "f4d3734a-9294-405d-b5aa-7df49fce7629",
   "metadata": {},
   "source": [
    "- 实值、虚值、平值期权  \n"
   ]
  },
  {
   "cell_type": "markdown",
   "id": "761017e0-64eb-418b-a2df-8ad65051c2b6",
   "metadata": {},
   "source": [
    "- 内在价值、时间价值  \n",
    "内在价值是买方立即行权就可以获得的利润，利润为标的物价格与行权价的差额。  \n",
    "时间价值是期权到期前，权利金扣除内在价值之后的剩余部分，时间越长，时间价值越大"
   ]
  },
  {
   "cell_type": "markdown",
   "id": "d6f1f313-a1b0-4735-a31c-045a318c3c32",
   "metadata": {},
   "source": [
    "- 合约月份   \n",
    "不同合约月份不同：   \n",
    "铜期权，当月开始交易接下来11个月都有合约    \n",
    "50/300ETF在当月、下月及接下来的两个季度月都有合约交易    \n",
    "股指期权则在当月、下两个月以及接下来的3个季度月有合约交易    \n",
    "其他商品期权则根据商品期货的季节月份来进行交易"
   ]
  },
  {
   "cell_type": "markdown",
   "id": "dc8d2c55-21ee-491c-b691-9147bd2762eb",
   "metadata": {},
   "source": [
    "- 最小变动单位  \n",
    "不同合约不同：  \n",
    "50ETF价格最小变动单位是小数点后的第四位，0.0001元  \n",
    "商品期权不同，一般价格大的是整数元，价格低的是0.5元  \n",
    "黄金期权的是0.02元  "
   ]
  },
  {
   "cell_type": "markdown",
   "id": "3bcb5888-e6ce-482a-896c-116a305352db",
   "metadata": {},
   "source": [
    "- 权利金与保证金  \n",
    "权利金：买方为了获取期权向卖方支付的费用  \n",
    "保证金：保证卖方能够履约，一般来说平值的50ETF的权利金为700元左右，保证金为3000元左右"
   ]
  },
  {
   "cell_type": "markdown",
   "id": "09c2dd08-c42c-47f8-9755-12c7e67faea7",
   "metadata": {},
   "source": [
    "- 历史/隐含波动率  \n",
    "隐含在期权价格中的波动率，是对未来的预期"
   ]
  },
  {
   "cell_type": "markdown",
   "id": "e122e924-7f21-470f-a798-e52f02b06780",
   "metadata": {},
   "source": [
    "### 影响期权价格的因素"
   ]
  },
  {
   "cell_type": "markdown",
   "id": "8ebdc285-270f-42e8-b9e0-b2b89d3a7557",
   "metadata": {},
   "source": [
    "- 标的资产的市场价格  \n",
    "- 期权的执行价格\n",
    "- 剩余有效期，T越长可能性越大价格越大  \n",
    "- 资产的波动率，反映资产风险水平  \n",
    "- 无风险利率和标的的资产收益率"
   ]
  },
  {
   "cell_type": "markdown",
   "id": "2c546644-4251-49c6-b7e1-faadbe20b7c1",
   "metadata": {},
   "source": [
    "**总结**：标的资产的市场价格和期权执行价格影响期权的内在价值，其他因素对时间价值的影响更大   "
   ]
  },
  {
   "cell_type": "markdown",
   "id": "3e0a6f09-73e9-446f-b5c5-74c03b0ab92d",
   "metadata": {},
   "source": [
    "### 期权的买方与卖方"
   ]
  },
  {
   "cell_type": "markdown",
   "id": "ec108516-8bbe-4b8e-ac08-65a6506b8a91",
   "metadata": {},
   "source": [
    "#### 买方"
   ]
  },
  {
   "cell_type": "markdown",
   "id": "6cd164ba-2e62-42fd-9748-d6471294c465",
   "metadata": {},
   "source": [
    "支付权利金"
   ]
  },
  {
   "cell_type": "markdown",
   "id": "794de247-4772-44c5-a566-f1d36aab6f63",
   "metadata": {},
   "source": [
    "#### 卖方"
   ]
  },
  {
   "cell_type": "markdown",
   "id": "e44eeae1-7a9a-4c0c-893a-f324791d4f7a",
   "metadata": {},
   "source": [
    "卖方需要缴纳保证金  \n",
    "卖方被行权的概率较小，具有概率优势"
   ]
  },
  {
   "cell_type": "markdown",
   "id": "1870b00e-78f0-4a9e-9d1b-4edf8687a993",
   "metadata": {},
   "source": [
    "组合策略投资者会卖出虚值，但可能不是裸卖出，而是持有买方卖出虚值，或者持有现货来做卖方"
   ]
  },
  {
   "cell_type": "markdown",
   "id": "4ffec7a0-1c04-4c41-812e-8cf65403665a",
   "metadata": {},
   "source": [
    "#### 买卖结合"
   ]
  },
  {
   "cell_type": "markdown",
   "id": "692b2939-84d8-4fb2-bc9e-adfb08cc6014",
   "metadata": {},
   "source": [
    "- 形成价差策略，如买低行权价的Call卖高的Call\n",
    "- 形成合成头寸，long call + short put强烈看好\n",
    "- 先卖再买，虚值期权行权可能性小，卖方盈利概率大，可以上半月做虚值期权的卖方获取利润，下半月利用上半月的一部分利润来期权买方，以此获得超额收益。  "
   ]
  },
  {
   "cell_type": "markdown",
   "id": "a468d7fb-3867-4dee-b4bc-862d52a8d4df",
   "metadata": {},
   "source": [
    "此外如果纯做买方，那么反而容易产生较大的亏损，但是卖方却有限，因为当账户风险很高的时候，券商会对账户进行强制平仓，强行止损"
   ]
  },
  {
   "cell_type": "markdown",
   "id": "c58a3bbd-0bef-430e-9420-263b174c1e48",
   "metadata": {},
   "source": [
    "## 新手入门注意事项"
   ]
  },
  {
   "cell_type": "markdown",
   "id": "6b1d892c-9362-4a7a-a5fd-9e957c8c2f52",
   "metadata": {},
   "source": [
    "### 准备工作"
   ]
  },
  {
   "cell_type": "markdown",
   "id": "914ffb75-2491-4d64-8766-66c0a28d6c02",
   "metadata": {},
   "source": [
    "#### 知识储备"
   ]
  },
  {
   "cell_type": "markdown",
   "id": "d9813da2-3456-4c58-9308-827b1ec82cdd",
   "metadata": {},
   "source": [
    "- 阅读图书：笔者推荐上海交易所投教频道系列教程和视频，图书从简单的《三小时快学期权》《两周攻克期权策略》等读起，然后阅读“小马白话期权系列”图书、《期权交易——核心策略与技巧解析》《手把手教你学期权投资》《麦克米伦谈期权》，以及与波动率交易相关的图书，以学习期权更深层次的知识。"
   ]
  },
  {
   "cell_type": "markdown",
   "id": "1cf25e3f-2d08-49c5-999b-c1f8ec8a09ea",
   "metadata": {},
   "source": [
    "\n",
    "- 行情思维：对于习惯股票交易的投资者来说，更加需要具备多空思维，因为股票只能通过做多赚钱，但在既可以做多又可以做空的期权市场，他们往往在行情下跌时不会做空，只会根据股票思维来操作，可是往往做空获利的速度比做多获利的速度快得多、空间也大得多。从事期货的投资者转做期权，就不会存在看多、看空方面的问题。"
   ]
  },
  {
   "cell_type": "markdown",
   "id": "bd02c3f2-a70e-48da-997e-20b8c909945a",
   "metadata": {},
   "source": [
    "- 技术分析：掌握一些技术分析的方法，这一点也非常重要，因为这些方法能够成为你下单进行买卖操作的依据，比如参考常见的均线、MACD线、KDJ线指标等"
   ]
  },
  {
   "cell_type": "markdown",
   "id": "68200780-af9c-4fe9-a06a-92277f19a548",
   "metadata": {},
   "source": [
    "#### 资金准备"
   ]
  },
  {
   "cell_type": "markdown",
   "id": "31108f80-f3ae-46a7-8107-ee68ac73690b",
   "metadata": {},
   "source": [
    "国内期权市场有相对较高的门槛，要想投资50ETF和300ETF期权，需要连续20个工作日账户平均净资产达到50万元以上，投资商品期权需要开通账户前5个交易日平均净资产达到10万元以上，在开通50ETF和300ETF期权账户后，就可以拿交割单去开通商品期权账户了，所以投资者要做好相应的资金准备"
   ]
  },
  {
   "cell_type": "markdown",
   "id": "18c7b931-ba18-4717-b173-8c70aefacfc2",
   "metadata": {},
   "source": [
    "#### 相关经验"
   ]
  },
  {
   "cell_type": "markdown",
   "id": "2e044172-d59a-451f-8b65-6ab272370ebb",
   "metadata": {},
   "source": [
    "① 投资股票的经验。股票做得好的人对指数、板块、个股、基本面会有比较详细、客观、全面的了解，盘感也比较好，再来操作50ETF期权会非常容易。  \n",
    "② 投资期货的经验。期货投资者在交易纪律、止盈/止损、资金管理、日内操作、多空观点、程序化交易方面有优势。"
   ]
  },
  {
   "cell_type": "markdown",
   "id": "f51096f2-8dc9-4f2e-990f-47e81f6cfd7e",
   "metadata": {},
   "source": [
    "### 期权试水"
   ]
  },
  {
   "cell_type": "markdown",
   "id": "8e50b241-93ed-45e6-bbcf-5ede76bc404a",
   "metadata": {},
   "source": [
    "#### 模拟交易和开户"
   ]
  },
  {
   "cell_type": "markdown",
   "id": "3ed27297-131d-4b89-9b3c-7a2eb4c9c639",
   "metadata": {},
   "source": [
    "在做好上述准备工作后，就可以联系证券公司或期货公司进行模拟交易和开户了，模拟50ETF期权交易要有6笔不同方向的交易，模拟交易商品期权需要连续操作10个交易日，且包括行权操作。笔者建议多做几笔交易，以熟悉各种操作，找到亏损和盈利的感觉。"
   ]
  },
  {
   "cell_type": "markdown",
   "id": "4a07c0fa-02b5-43b0-b598-1a0715aa8e70",
   "metadata": {},
   "source": [
    "#### 熟悉交易软件"
   ]
  },
  {
   "cell_type": "markdown",
   "id": "5c42adbd-9c8c-419b-aaa0-bbd247e0a8b9",
   "metadata": {},
   "source": [
    "在做好上述准备工作后，就可以联系证券公司或期货公司进行模拟交易和开户了，模拟50ETF期权交易要有6笔不同方向的交易，模拟交易商品期权需要连续操作10个交易日，且包括行权操作。笔者建议多做几笔交易，以熟悉各种操作，找到亏损和盈利的感觉。"
   ]
  },
  {
   "cell_type": "markdown",
   "id": "2748778c-558c-40c6-9d96-23c2338d70ca",
   "metadata": {},
   "source": [
    "商品期权交易软件界面更复杂。投资者要熟悉交易软件，避免在实际操作时下错单子"
   ]
  },
  {
   "cell_type": "markdown",
   "id": "a2ea58ee-9ebc-4961-a5cc-ac681ac6f04d",
   "metadata": {},
   "source": [
    "![](./小马期权.assets/行情交易软件.png)"
   ]
  },
  {
   "cell_type": "markdown",
   "id": "a8d47802-2167-40ad-bfc1-deb52371f562",
   "metadata": {},
   "source": [
    "#### 用小仓位练单子"
   ]
  },
  {
   "cell_type": "markdown",
   "id": "555c2587-f2af-43a1-b3f0-dc6f02d14fdf",
   "metadata": {},
   "source": [
    "一些新手做期权交易不知道从哪里做起，一句话：从轻仓做起，从简单做起。\n",
    "- 要有一笔单子来体会“做空也能赚钱”。\n",
    "- 要有一笔盈利的单子来体会“原来杠杆这么大”。\n",
    "- 要有一笔卖期权的单子来体会“原来卖方赚钱挺轻松的”。\n",
    "- 要有一笔卖期权亏损的单子来体会“卖期权亏起来那么快”。\n",
    "- 要有一笔买入虚值期权的单子，一直持有到期且归零，来体会“原来真的可以到期归零，幸好当初没满仓”。\n",
    "- 要有一次“在波动率高位买期权，做对了方向却没有赚到钱”的经历。"
   ]
  },
  {
   "cell_type": "markdown",
   "id": "60b6a1ef-ecf7-41c5-8dee-5dc068564808",
   "metadata": {},
   "source": [
    "以上单子，一定要轻仓，哪怕1张也可以。必要的痛一定要经历，在痛的时候问自己“如果这些单子是重仓的会怎样”。  \n",
    "在初始投资时，可以根据自己对行情的判断，将远月合约与近月合约适当搭配，用近月合约感受期权对短期市场变化的敏感，用远月合约树立中线意识，且不会一个月就亏完本金，可以有时间在不断变化的行情中调整交易思路。"
   ]
  },
  {
   "cell_type": "markdown",
   "id": "c97d60b5-7d5a-4fea-8ea6-a2f4fbc45cc5",
   "metadata": {},
   "source": [
    "#### 有利润后适当加仓"
   ]
  },
  {
   "cell_type": "markdown",
   "id": "a2d321f2-1e53-4292-aab3-21270d436b23",
   "metadata": {},
   "source": [
    "在熟悉了一些标的物的走势、了解了期权的特点、赚得一定的利润后，如果标的物的价格趋势能继续保持，就可以适当加仓，但不要一次加太多。"
   ]
  },
  {
   "cell_type": "markdown",
   "id": "19bd26f9-b23f-42ec-98ae-e57d8d7c7546",
   "metadata": {},
   "source": [
    "#### 常用期权策略"
   ]
  },
  {
   "cell_type": "markdown",
   "id": "8e260956-48c2-450f-b3d6-534c7fc85130",
   "metadata": {},
   "source": [
    "常用的期权策略有看涨-买入认购、看跌-买入认沽、看不涨-卖出认购、看不跌-卖出认沽、持有标的增厚收益-备兑开仓、看小涨/慢涨-牛市价差、看小跌/慢跌-熊市价差。"
   ]
  },
  {
   "cell_type": "markdown",
   "id": "aa88e323-5ff3-4015-95c3-1fd9b2d9819a",
   "metadata": {},
   "source": [
    "### 新手误区"
   ]
  },
  {
   "cell_type": "markdown",
   "id": "bd475985-2eca-4881-85a8-a13c1cf6edf1",
   "metadata": {},
   "source": [
    "- （1）爱买虚值期权。有些新手在刚入场时，不分析市场行情，也不考虑实际情况，就喜欢买虚值期权，甚至重仓买入，最后因虚值期权归零而蒙受巨大损失。\n",
    "- （2）喜欢重仓。一般来说，如果投资者手上的资金不多，且刚开户，那么在开始试水期权权利仓时，最好只用1万元左右试水。在多次试水、验证策略是正确的以后，再适当增加资金投入。\n",
    "- （3）对抗趋势。有些人是从股票投资转为期权投资的，所以喜欢抄底、逆趋势而操作，这种方法或许用在股票市场能够赚到钱，但用在期权投资里，最后持仓很可能会变成虚值，甚至归零。投资者应该及时调整策略或止损，也可以买入反向的期权做对冲，从而扭亏为盈。\n",
    "- （4）无限移仓。在期权价格上涨或下跌时无限向上移仓，买入较多量的虚值期权，如果期权价格继续上涨，则会获得额外利润，但是在一段时间内，标的价格的上涨或下跌往往是有限的，如果不断向上移仓，一旦碰到市场回调、反弹或波动率的急剧下降，就会被吞噬很多利润。\n",
    "- （5）长期持跨。买入跨式期权并不是在任何条件下都合适的，在短线交易中，投资者盼望着在涨上去时认购止盈，在跌下来时认沽止盈，不管怎样都赚钱，但实际上这样来回震荡的行情并不会时时存在。而且，加上波动率的变化和时间价值的损耗，在不涨、不跌时两边的期权可能都会亏损。\n",
    "- （6）止盈止损。在一个波段趋势里，分批止盈是对的，但是不要过早全部止盈和过早反向，在趋势不改时守住持仓量才有大利润。止损做起来更容易，但要有止损后再跟随趋势追回来的勇气。\n",
    "- （7）依赖心强。天天盼望着有高手指点，恨不得买哪个合约、什么时候买、什么时候卖，都由高手指点，自己不去钻研。即使亏损也不分行情，希望高手帮忙操盘，快速回本。但是在这样高杠杆的市场，哪有时刻都赚大钱的高手呢？高手更擅长行情判断、资金管理和控制回撤，并不是不会浮亏。路要靠自己走，才会安心。"
   ]
  },
  {
   "cell_type": "markdown",
   "id": "32178905-b43b-4884-9610-6b6a6a7c7fca",
   "metadata": {},
   "source": [
    "### 心理修炼"
   ]
  },
  {
   "cell_type": "markdown",
   "id": "b2ad51e0-65f4-4e19-8a5e-01fb5689ede9",
   "metadata": {},
   "source": [
    "#### 盈利后怎么办  "
   ]
  },
  {
   "cell_type": "markdown",
   "id": "43cdfed5-6817-4580-9545-b26c2bfe4cd3",
   "metadata": {},
   "source": [
    "投资者在短期内赚取较多的利润，一定要弄清楚这些利润是通过自己分析研究后投资赚得的，还是刚好适应了市场走势赚得的。如果是前者，则可以发挥自身的技术优势，利用好期权所具有的超额收益及无论上涨、下跌、横盘都可以赚钱的特点，继续在市场中操作；如果是刚好适应了市场走势所赚得的，那就要冷静下来，思考这种操作是否可持续。\n",
    "\n",
    "如果盈利丰厚，就要及时将大部分资金转出，万一行情转为不利，前面的盈利就变成了“竹篮打水一场空”。"
   ]
  },
  {
   "cell_type": "markdown",
   "id": "8d9dfeaa-cfc1-4c7b-bc24-1177c80cf515",
   "metadata": {},
   "source": [
    "#### 亏损后怎么办\n",
    "在面对浮亏时，人们内心都是不好受的，但如果能做好资金管理，做好“投入即亏损”的打算，那么偶尔的亏损也是可以承受的。  \n",
    "如果亏损已发生，则应先判断是自己判断行情错误，还是期权合约选择错误，抑或是没止盈、没止损造成的，再结合行情继续做好资金管理，争取在今后的期权投资中赚回来。  如果是卖方亏损，则应调整思路、滚动操作，不急不躁地把亏损挽回。"
   ]
  },
  {
   "cell_type": "markdown",
   "id": "89c482a2-f70b-4b59-94f3-896c92a95a7b",
   "metadata": {},
   "source": [
    "#### 坦然面对波动"
   ]
  },
  {
   "cell_type": "markdown",
   "id": "419e0483-c42c-4680-b767-ac1cbb3146d0",
   "metadata": {},
   "source": [
    "**期权是波动非常大的品种，一天上涨或下跌50%都非常正常**。如何应对这样过山车似的涨跌？做好下面几点就会相对坦然一些。  "
   ]
  },
  {
   "cell_type": "markdown",
   "id": "9a8fd51b-4561-495a-a24b-f6bbe7de3133",
   "metadata": {},
   "source": [
    "- ① 期权权利方要控制好资金的投入，价格上涨或下跌50%对总资金来说所占比例不大，义务方则不要重仓卖出平值期权和实值期权。  \n",
    "- ② **优化持仓结构**，如果判断标的方向比较困难，则可以用不同行权价的虚实期权构建一个进可攻、退可守的持仓组合。但对于短线操作和日内操作来说，不用那么麻烦，只需做好盯盘和止盈/止损。  \n",
    "- ③ **做好期权善后处理**，当有巨大利润、害怕回撤又不想失去行情上行收益时，可以逐渐采取“收尾行动”，采用构建垂直价差或比率价差、买入反向合约做保护等方式。  \n",
    "- ④ 调整心态，逐渐习惯期权账户的巨大波动，平稳心态，让心脏变得强大，需要长时间的修炼。  "
   ]
  },
  {
   "cell_type": "markdown",
   "id": "f53f6e69-0f1b-4a6a-8d8d-08b674b3eac8",
   "metadata": {},
   "source": [
    "### 期权与其他投资品种对比"
   ]
  },
  {
   "cell_type": "markdown",
   "id": "42dcdbba-0fc2-4bd3-aeba-502f2dc3c928",
   "metadata": {},
   "source": [
    "#### 与股票对比"
   ]
  },
  {
   "cell_type": "markdown",
   "id": "0c780d9d-209c-4632-a951-56bf3f837107",
   "metadata": {},
   "source": [
    "- 期权具有“使用较少资金获得较大收益”的特点\n",
    "- 买方亏损可控\n",
    "- 到期时间，**期限的存在对于买方来说是不友好的，但却是卖方的朋友**"
   ]
  },
  {
   "cell_type": "markdown",
   "id": "6d2e33d6-56f0-4cb3-a08f-a8cb5ad7afb1",
   "metadata": {},
   "source": [
    "#### 期权与期货的区别"
   ]
  },
  {
   "cell_type": "markdown",
   "id": "1670921b-07c4-44b5-86a3-fd92f130dc0e",
   "metadata": {},
   "source": [
    "![](./小马期权.assets/期权和期货对比.png)"
   ]
  },
  {
   "cell_type": "markdown",
   "id": "6f998472-6958-4292-89ca-a1126a0762e8",
   "metadata": {},
   "source": [
    "### 做市商"
   ]
  },
  {
   "cell_type": "markdown",
   "id": "03cb909a-67d1-4128-a9bc-c96f4abd1b2b",
   "metadata": {},
   "source": [
    "在股票交易中，盘口中的单子是真真切切存在的，或者说盘口中的单子都是由投资者所挂出的。但是在期权交易中，盘口中的单子有一些是做市商所挂的。"
   ]
  },
  {
   "cell_type": "markdown",
   "id": "2f831cc4-84b1-48e6-b81c-7ee09e09512e",
   "metadata": {},
   "source": [
    "什么是做市商呢？做市商就是为市场提供双边报价（持续报价、回应询价）服务的机构。做市商的英文是Market Maker，简称MM，其同时挂出买单报价和卖单报价，被动成交，在头寸上会自动对冲，且尽量保持方向上的中立，主要赚取买卖价点差。做市商有为市场提供流动性的义务，其装备精良，无论我们是做买方还是做卖方，当市场上挂出的单子没有那么多时，就会有做市商来促进成交，满足投资者的需要。**所以在期权市场上，我们不用担心市场完全没有报价的情况出现。**"
   ]
  },
  {
   "cell_type": "markdown",
   "id": "27a122ed-9e2f-4c74-994e-c59d5dd0c027",
   "metadata": {},
   "source": [
    "做市商在大行情的突袭下，如果对冲风控做得不好，也很容易亏损。对于一般的期权投资者来说，不用对其考虑太多，其实他们就是保证你在交易时至少还有对手方，只是他们所挂的价格高了一点。"
   ]
  },
  {
   "cell_type": "markdown",
   "id": "20727b55-b6bd-4659-aeeb-9587f1d467be",
   "metadata": {},
   "source": [
    "那么，如何看出做市商的操作呢？  \n",
    "在远月实值期权报价中大多是1张合约，但如果挂出的单子数量比较多的话，就会引来做市商和我们交易"
   ]
  },
  {
   "cell_type": "markdown",
   "id": "eff20997-2f6a-44a7-a343-6030815f0858",
   "metadata": {},
   "source": [
    "![](./小马期权.assets/做市商操作.png)"
   ]
  },
  {
   "cell_type": "markdown",
   "id": "8bc62c86-a805-4d00-af96-951a4f55e4f8",
   "metadata": {},
   "source": [
    "在交易中，做市商更像投资者的交易伙伴，与投资者是共生共存的关系，因为他们始终在默默地为交易市场提供流动性。**在操作中，投资者不要下太多的单子，可以将委托单子拆分，与做市商的报价单相匹配，尽可能减少价差，尤其是在成交量较小的远月合约、股指期权、实值期权和商品期权合约中，这样可以有效减少由于交易点差所付出的成本。**"
   ]
  },
  {
   "cell_type": "markdown",
   "id": "1d4d99b5-2aa8-447b-b300-eee22d6fea62",
   "metadata": {},
   "source": [
    "### 期权开户与交易前的注意事项"
   ]
  },
  {
   "cell_type": "markdown",
   "id": "190b8196-8331-4e74-b30a-e05786c09014",
   "metadata": {},
   "source": [
    "50ETF和300ETF开户：\n",
    "- 1 需要开立一个证券账户，在沪市有交易记录且满6个月。\n",
    "- 2 成功开通融资融券或者股指期货的交易账户。\n",
    "- 3 开通了模拟期权账户，交易不低于10笔，并且通过了上海证券交易所规定的模拟考试。\n",
    "- 4 在开通期权账户的前20个交易日，账户内的日均资产不低于50万元。"
   ]
  },
  {
   "cell_type": "markdown",
   "id": "25e1dc7c-df38-4565-a458-d35484a9d586",
   "metadata": {},
   "source": [
    "商品期权，还要符合商品期权适当性认定标准:\n",
    "![](./小马期权.assets/商品期权开户.png)"
   ]
  },
  {
   "cell_type": "markdown",
   "id": "ed48ffc8-8754-4079-a9a5-d1a2c9476975",
   "metadata": {},
   "source": [
    "注意事项:\n",
    "- 1 市场看法，多空问题\n",
    "- 2 买方卖方，资金量少做买方更合适；卖方获利概率更大一些但风险也大\n",
    "- 3 确定合约，认购认沽虚值实值\n",
    "- 4 了结方式，对冲、了结（卖出开仓对应买入平仓了结，买入开仓由于组合策略和备兑策略锁定的部分不会被对冲）\n",
    "- 5 期权有限仓限额制度，限仓和限额制度其实是对投资者的一种保护，因为个股期权日内的振幅非常大，通过这种强制性限制，可以有效地帮助投资者控制风险。"
   ]
  },
  {
   "cell_type": "markdown",
   "id": "33db6f3b-2019-4bfc-8624-512e01669061",
   "metadata": {},
   "source": [
    "![](./小马期权.assets/限仓限额制度.png)"
   ]
  },
  {
   "cell_type": "markdown",
   "id": "fdc84d1b-e377-4f0c-b975-1790d069817c",
   "metadata": {},
   "source": [
    "## 期权看盘交易界面"
   ]
  },
  {
   "cell_type": "markdown",
   "id": "9bdb38ae-91a6-4de8-abda-80ee4d5f2062",
   "metadata": {},
   "source": [
    "### 汇点软件"
   ]
  },
  {
   "cell_type": "markdown",
   "id": "96c991a8-beaf-4194-8162-14c63d8d5152",
   "metadata": {},
   "source": [
    "上海澎博财经资讯有限公司"
   ]
  },
  {
   "cell_type": "markdown",
   "id": "5658e19f-2a8d-496d-8826-fd2ff9ca221e",
   "metadata": {},
   "source": [
    "#### 基本界面"
   ]
  },
  {
   "cell_type": "markdown",
   "id": "d2d00ee2-2af4-4f5c-a1a5-b52872b483bc",
   "metadata": {},
   "source": [
    "![](./小马期权.assets/汇点基本界面.png)"
   ]
  },
  {
   "cell_type": "markdown",
   "id": "12b5f0d8-af0d-4ba6-8d1d-8312f0a2a80f",
   "metadata": {},
   "source": [
    "#### T型报价"
   ]
  },
  {
   "cell_type": "markdown",
   "id": "b4af29b6-c1ac-4496-9ab7-e6fae3a7c397",
   "metadata": {},
   "source": [
    "![](./小马期权.assets/T型报价.png)"
   ]
  },
  {
   "cell_type": "markdown",
   "id": "e7fd26e8-c9fc-4664-83be-d9c072e21acb",
   "metadata": {},
   "source": [
    "#### 风险界面"
   ]
  },
  {
   "cell_type": "markdown",
   "id": "8dacfc76-ceba-42c1-9670-85c3c5fff4fa",
   "metadata": {},
   "source": [
    "Vega、Theta、Rho、Gamma、Delta 5个参数，这些是对期权进行风险管理和敞口控制的关键指标。"
   ]
  },
  {
   "cell_type": "markdown",
   "id": "c05de666-b8d4-49eb-a476-2f7f148ac077",
   "metadata": {},
   "source": [
    "![](./小马期权.assets/汇点风险界面.png)"
   ]
  },
  {
   "cell_type": "markdown",
   "id": "3fdba64e-02a5-40a8-bd45-20e797140a42",
   "metadata": {},
   "source": [
    "#### 信息界面"
   ]
  },
  {
   "cell_type": "markdown",
   "id": "8cd72cb8-9883-4671-af39-576be06c89b4",
   "metadata": {},
   "source": [
    "显示T型报价的信息界面，有期权到期日、行权终止日、行权方式、合约单位等，**行权终止日是每个月第四个星期三**，行权终止日和期权到期日是一样的。"
   ]
  },
  {
   "cell_type": "markdown",
   "id": "ccc92160-8b9c-4bdf-9832-3192d8df4ae0",
   "metadata": {},
   "source": [
    "![](./小马期权.assets/汇点信息界面.png)"
   ]
  },
  {
   "cell_type": "markdown",
   "id": "2c3aee0b-190c-40ae-a3a2-00be963a6715",
   "metadata": {},
   "source": [
    "#### 分时界面"
   ]
  },
  {
   "cell_type": "markdown",
   "id": "38ab5bb2-d4ad-46dc-bd53-aab03356cb21",
   "metadata": {},
   "source": [
    "分时图中还包含其他信息，比如“现手”是当前最新的一单成交了多少手，“昨结”是昨日结算价格，“持仓”是期权合约现有持仓的数量，“仓差”即相对于前一天的持仓数量是增加了还是减少了，“外盘”是主动性买盘，“内盘”是主动性卖盘。"
   ]
  },
  {
   "cell_type": "markdown",
   "id": "d3d771fb-e482-4475-92c2-d30fbebe38bb",
   "metadata": {},
   "source": [
    "![](./小马期权.assets/汇点分时界面.png)"
   ]
  },
  {
   "cell_type": "markdown",
   "id": "bb2812af-81b2-4a93-af3a-0656025c8d06",
   "metadata": {},
   "source": [
    "#### K线图"
   ]
  },
  {
   "cell_type": "markdown",
   "id": "f02db089-22c2-4ca8-b52d-5de45b84b258",
   "metadata": {},
   "source": [
    "![](./小马期权.assets/汇点K线图.png)"
   ]
  },
  {
   "cell_type": "markdown",
   "id": "e650b00f-a900-46b3-8362-cafe65a14b76",
   "metadata": {},
   "source": [
    "#### 波动率指数"
   ]
  },
  {
   "cell_type": "markdown",
   "id": "65c0a74c-8a3f-4303-bda1-ab63b072c9d6",
   "metadata": {},
   "source": [
    "期权软件中有波动率指数，可以显示该合约的隐含波动率和历史波动率，可以单独选择波动率指数来查看不同波动率之间的变化"
   ]
  },
  {
   "cell_type": "markdown",
   "id": "471acb49-afc5-4e0b-b9e5-d7ee21320427",
   "metadata": {},
   "source": [
    "![](./小马期权.assets/汇点波动率指数.png)"
   ]
  },
  {
   "cell_type": "markdown",
   "id": "977836e5-964e-4580-9f21-fcefb87adc34",
   "metadata": {},
   "source": [
    "#### 策略界面"
   ]
  },
  {
   "cell_type": "markdown",
   "id": "3ef209ce-6b56-4c3f-a89f-0a3f72f31966",
   "metadata": {},
   "source": [
    "在期权投资中有很多交易策略，可以根据观点来构建策略，并进行盈亏分析"
   ]
  },
  {
   "cell_type": "markdown",
   "id": "6271d8ae-bcec-45d1-88fa-02c63056541d",
   "metadata": {},
   "source": [
    "![](./小马期权.assets/汇点策略界面.png)"
   ]
  },
  {
   "cell_type": "markdown",
   "id": "90e7e93f-032e-4342-ab68-3b6ead94928c",
   "metadata": {},
   "source": [
    "#### 卖方分析"
   ]
  },
  {
   "cell_type": "markdown",
   "id": "df3abdb4-441b-45e4-aab4-36c01c3791e5",
   "metadata": {},
   "source": [
    "能计算盈亏概率等，还可以设计标的价格变化和波动率价格变化来计算风险"
   ]
  },
  {
   "cell_type": "markdown",
   "id": "f1ad742d-6890-4afa-b266-14bff7dbbc1e",
   "metadata": {},
   "source": [
    "![](./小马期权.assets/汇点卖方分析.png)"
   ]
  },
  {
   "cell_type": "markdown",
   "id": "0a6fcf4f-3941-4b8b-b07a-9a2b0c95e67f",
   "metadata": {},
   "source": [
    "####  交易界面"
   ]
  },
  {
   "cell_type": "markdown",
   "id": "bb02b312-f1e4-42c6-a0b9-63d2f05f1f33",
   "metadata": {},
   "source": [
    "最左边是功能区，包括交易、当日委托、当日成交等；交易界面的中间区域是下单区，有开仓、平仓、备兑、买入和卖出等功能。交易界面右边区域的上方是持仓区，显示投资者现在持有哪些仓位，下方是委托/成交区"
   ]
  },
  {
   "cell_type": "markdown",
   "id": "86b451ce-83db-4edf-9392-d3aeebb9e2d6",
   "metadata": {},
   "source": [
    "![](./小马期权.assets/汇点交易界面.png)"
   ]
  },
  {
   "cell_type": "markdown",
   "id": "bf5d16ca-22f8-4c6d-aee6-ac93fe2bbdf0",
   "metadata": {},
   "source": [
    "### 通达信软件"
   ]
  },
  {
   "cell_type": "markdown",
   "id": "7ad5cad6-9063-47db-879d-bb7701f9c748",
   "metadata": {},
   "source": [
    "深圳市财富趋势科技股份有限公司开发，在通达信软件有中信至信期权专版、平安证券慧赢期权专版等"
   ]
  },
  {
   "cell_type": "markdown",
   "id": "bf62f7b9-861e-4799-9363-ea26a112c07d",
   "metadata": {},
   "source": [
    "### 咏春软件"
   ]
  },
  {
   "cell_type": "markdown",
   "id": "44e10eb7-905d-4b35-a54a-84d1477dc906",
   "metadata": {},
   "source": [
    "咏春软件由艾扬软件（上海）有限公司开发，这款软件与前面介绍的两款软件的不同是，可以将盈亏图显示出来，且投资者可以根据自己的想法构建策略，比较方便"
   ]
  },
  {
   "cell_type": "markdown",
   "id": "77d4b3ce-d880-4489-8bfb-c5a77adc110d",
   "metadata": {},
   "source": [
    "![](./小马期权.assets/咏春软件.png)"
   ]
  },
  {
   "cell_type": "markdown",
   "id": "f58b03fa-ef40-4616-9be9-f626a87faa82",
   "metadata": {},
   "source": [
    "咏春软件除提供下单的盈亏分析外，还提供持仓的盈亏分析，投资者通过咏春软件可以实时监控持仓的总Greeks（希腊）值，并且结合下单策略，了解组合的盈亏（如图2-24所示）。同时，该软件还提供传统技术指标和专用指标，例如标的物IV、历史波动率、Put Call Ratio等。"
   ]
  },
  {
   "cell_type": "markdown",
   "id": "cd9d4f11-5524-402a-b330-9b112fd35bec",
   "metadata": {},
   "source": [
    "![](./小马期权.assets/咏春组合盈亏分析.png)"
   ]
  },
  {
   "cell_type": "markdown",
   "id": "9983b474-b834-4b2b-9a11-d28a600d479f",
   "metadata": {},
   "source": [
    "软件中的期权矩阵，可以一次监控全市场跨商品、跨月的期权波动率变化、时间价值等，可以一次下单大量的期权多行权价合约"
   ]
  },
  {
   "cell_type": "markdown",
   "id": "d89c4250-f78b-46e3-86e0-db97b50a0691",
   "metadata": {},
   "source": [
    "![](./小马期权.assets/咏春矩阵下单.png)"
   ]
  },
  {
   "cell_type": "markdown",
   "id": "1f517d18-946d-4ad5-9b43-00236c49d84f",
   "metadata": {},
   "source": [
    "### 手机端汇点"
   ]
  },
  {
   "cell_type": "markdown",
   "id": "9a185a6d-c29f-40cc-ba98-0bf4e15eb96d",
   "metadata": {},
   "source": [
    "移动互联网版本的汇点软件有两个界面：一个是下单界面，包括交易方向、持仓等；另一个是交易设置界面，投资者可以根据自己的操作习惯和资金量进行设置。"
   ]
  },
  {
   "cell_type": "markdown",
   "id": "dd683854-5556-4887-adc7-29d57cd9e725",
   "metadata": {},
   "source": [
    "## 期权交易基本规则"
   ]
  },
  {
   "cell_type": "markdown",
   "id": "41790291-795d-46e7-ad12-3aa96a4f55cf",
   "metadata": {},
   "source": [
    "### 交易指令"
   ]
  },
  {
   "cell_type": "markdown",
   "id": "68982309-cc74-454c-91ea-686c36ffd10e",
   "metadata": {},
   "source": [
    "报价方式：\n",
    "- 限价GFD：以具体的价格来确定委托价格。\n",
    "- 限价FOK全成或撤：比如按照某一价格挂单100张，要么全部按照这个价格成交，要么全部撤单。\n",
    "- 对方/本方最优价格：比如期权买方，对方最优价格即为卖1价，本方最优价格即为买1价。\n",
    "- 即时成交剩撤：如果我们委托100张期权，委托价格为222元/张，此时市场上只能成交一张，那么剩余的委托就进行撤单处理。"
   ]
  },
  {
   "cell_type": "markdown",
   "id": "90f86e7c-8c9c-469b-a95e-1b9888400fde",
   "metadata": {},
   "source": [
    "开仓、平仓、持仓：\n",
    "- 开仓：又叫建仓，说明期权投资者启动了期权交易，无论是买入开仓、卖出开仓，都是建立了一个头寸。\n",
    "- 平仓：又叫对冲，指投资者买入或者卖出与目前所持有头寸方向相反的合约，分为买入平仓和卖出平仓。\n",
    "- 持仓：目前账户中所有的头寸。"
   ]
  },
  {
   "cell_type": "markdown",
   "id": "c6fc4c09-4bec-4701-967d-78e45091b20e",
   "metadata": {},
   "source": [
    "### 期权加挂"
   ]
  },
  {
   "cell_type": "markdown",
   "id": "2a679690-2c92-48c5-bac7-b91f76f5796f",
   "metadata": {},
   "source": [
    "期权合约的加挂方式分为以下三种。\n",
    "- 到期加挂，比如2月结束后，就自动加挂3月和4月的合约。\n",
    "- 被动加挂，当标的有一定涨跌幅度后，为了保持认购或认沽都有四档虚值合约，要加挂相应的合约。\n",
    "- **分红加挂**，50ETF、300ETF一般在每年的12月进行一次分红，分红会导致行权价有所变动。如图2-29所示，合约名称前面带A的就是分红后的，原来的合约更改了行权价，但价格不变，只是合约单位有变化。"
   ]
  },
  {
   "cell_type": "markdown",
   "id": "dfc10f40-000e-49d7-97cd-5e10262083d8",
   "metadata": {},
   "source": [
    "![](./小马期权.assets/合约分红界面.png)"
   ]
  },
  {
   "cell_type": "markdown",
   "id": "10a92f8b-c380-4b7e-83de-00a291b0042b",
   "metadata": {},
   "source": [
    "### 期权结算价格"
   ]
  },
  {
   "cell_type": "markdown",
   "id": "ca5154b7-5c0a-4d92-af23-e02a6e0de087",
   "metadata": {},
   "source": [
    "每一个新合约的参考开盘价都是根据B-S公式计算出来的，但从本质上来说，期权的价格依然是在市场上交易后形成的。"
   ]
  },
  {
   "cell_type": "markdown",
   "id": "bd3f4b11-a2c0-459f-91a5-96e34639fcd6",
   "metadata": {},
   "source": [
    "一般，50ETF的结算价是前一日的收盘价，但是在实际交易时，若最新价格低于内在价值，则在当日收盘时会以内在价值作为结算价格，一般出现在贴水、时间价值为负的实值期权上\n",
    "![](./小马期权.assets/内在价值为负的界面.png)"
   ]
  },
  {
   "cell_type": "markdown",
   "id": "22b61c5a-5787-47f4-b5df-f3bdd3c4673e",
   "metadata": {},
   "source": [
    "商品期权的结算价是根据商品期货结算价的相关条款进行计算的。需要注意的是，商品期权的结算价比较低，很高倍数的虚值期权的涨幅往往是不准确的，所以成交价比结算价低很多。"
   ]
  },
  {
   "cell_type": "markdown",
   "id": "d91af1ad-e1db-4bc7-862c-df1e82829d97",
   "metadata": {},
   "source": [
    "### 期权熔断"
   ]
  },
  {
   "cell_type": "markdown",
   "id": "c6c04aed-b2a9-41d1-81b8-eb756827ea92",
   "metadata": {},
   "source": [
    "ETF期权在交易日早上9:15开始集合竞价，在9:30开始集中竞价，买卖双方可以在买卖盘口中下单，在14:57（收盘前）进入集合竞价。商品期权交易时间和期货交易时间一致，即早上9点开盘，晚上9点开始夜盘交易。期权的熔断机制和股票的熔断机制不同，熔断指价格在上涨或下跌达到或超过前一次集合竞价的50%时，会暂停交易三分钟。熔断在一些末日期权或大行情中经常出现，设立这个制度的初衷是，交易所希望投资者能在熔断期间冷静一下，仔细思索自己的交易行为。如图2-31所示，图中的认沽期权价格很低，只要行情稍微有涨跌，就可能触及前一次集合竞价的50%，所以当天发生多次熔断。"
   ]
  },
  {
   "cell_type": "markdown",
   "id": "2cd2099d-698c-4304-8b7a-f93c8377ddef",
   "metadata": {},
   "source": [
    "![](./小马期权.assets/期权熔断界面.png)"
   ]
  },
  {
   "cell_type": "markdown",
   "id": "3e95c49c-feff-4e90-a458-a770686a14ba",
   "metadata": {},
   "source": [
    "### 了结与行权"
   ]
  },
  {
   "cell_type": "markdown",
   "id": "fc68ad10-2672-44dc-98c3-6a5d615b4e47",
   "metadata": {},
   "source": [
    "了结：\n",
    "- 卖出平仓：持有权利仓的合约所对应的平仓了结方式。\n",
    "- 买入平仓：持有义务仓的合约所对应的平仓了结方式。\n",
    "- 归零放弃：即使合约的价格接近0，权利方和义务方也可不理会，等待该合约价格归零放弃即可。"
   ]
  },
  {
   "cell_type": "markdown",
   "id": "ebcf73f9-c41d-496f-9266-dc50042a8a2a",
   "metadata": {},
   "source": [
    "行权：\n",
    "认购期权权利仓行权，即以约定的行权价买入标的；认沽期权权利仓行权，即以约定的行权价卖出标的；义务方被行权，方向与权利方相反。"
   ]
  },
  {
   "cell_type": "markdown",
   "id": "572134ca-ede1-41da-b484-8358bb89001d",
   "metadata": {},
   "source": [
    "其他：  \n",
    "50ETF期权可以进行**代理行权、垫资行权或作废**。注意，作为到期期权买方，在进行到期合约结算时，**无论账户上浮盈有多少，一旦不行权或不在结算前平仓，合约就都会被作废。虚值期权如果没有做好止损，在到期日时价格会最终归零**，可以选择在到期之前进行平仓，或者直接持有到期归零。**商品期权、股指期权的实值期权会自动行权，前提是需要有足够的资金。**"
   ]
  },
  {
   "cell_type": "markdown",
   "id": "ba1edfb9-7d8f-4777-b73e-e557dd267441",
   "metadata": {},
   "source": [
    "## 权利金与保证金"
   ]
  },
  {
   "cell_type": "markdown",
   "id": "7a234396-6a40-4146-b7e1-ee7b154eb533",
   "metadata": {},
   "source": [
    "### 权利金"
   ]
  },
  {
   "cell_type": "markdown",
   "id": "aaa74fa7-70cb-4350-af24-f895bd134214",
   "metadata": {},
   "source": [
    "####  权利金=期权买方的价格  \n",
    "可以将权利金简单地看作期权的单价×合约单位。“50ETF购5月2800”合约的现价是0.0364元，再乘合约单位10000，每张期权的权利金就是0.0364元×10 000=364元。  \n",
    "因为不同品种的期权合约的单价不同，合约单位也不同，所以每张合约的价格就不同。一般，豆粕、白糖的合约单位是10吨，黄金的合约单位是1000克，棉花、铜的合约单位是5吨，天然气的合约单位是20吨，股指期权的合约单位是100元。    \n",
    "如“黄金2006-购-360”合约单位是1000克，“黄金2006-购-360”合约按照截图的收盘价来计算，每张合约的价格为32.18元×1000=32180元。"
   ]
  },
  {
   "cell_type": "markdown",
   "id": "940f1d89-5a86-4f75-97fa-1f713a65e06f",
   "metadata": {},
   "source": [
    "####  盈亏=权利金的差价  \n",
    "无论是期权买方还是期权卖方，盈亏显示的都是差价。"
   ]
  },
  {
   "cell_type": "markdown",
   "id": "2b34c203-120e-4ef9-a3b2-1dd7bd907f2c",
   "metadata": {},
   "source": [
    "####  期权涨跌停   \n",
    "一般来说，股票类的标的很难出现涨停和跌停现象，但商品类的标的会出现涨停和跌停现象。    \n",
    "认购期权最大上涨金额=max{合约标的前收盘价×0.5%，min[（2×合约标的前收盘价-行权价），合约标的前收盘价]×10%}  \n",
    "认购期权最大下跌金额=合约标的前收盘价×10%  \n",
    "认沽期权最大上涨金额=max{行权价×0.5%，min[（2×行权价-合约标的前收盘价），合约标的前收盘价]×10%}  \n",
    "认沽期权最大下跌金额=合约标的前收盘价×10%  \n",
    "我们可以简单理解为：标的上涨多少金额，认购期权就会上涨多少金额；标的下跌多少金额，认购期权就会下跌多少金额。期权的最低价为该品种的最小交易单位，比如ETF期权的最低价为0.0001元，股指期权的最低价为0.2元，其他商品期权的最低价多为0.5元。"
   ]
  },
  {
   "cell_type": "markdown",
   "id": "705f0228-603c-447d-a191-bc0c8b386811",
   "metadata": {},
   "source": [
    "###   保证金"
   ]
  },
  {
   "cell_type": "markdown",
   "id": "7d5b390e-eaf1-4ea0-a7dc-86615e2d7e64",
   "metadata": {},
   "source": [
    "####   卖方保证金=支出的押金\n",
    "- 认购期权义务仓维持保证金=[合约结算价+max（12%×合约标的收盘价-认购期权虚值，7%×合约标的收盘价）]×合约单位\n",
    "- 认沽期权义务仓维持保证金=min[合约结算价+max（12%×合约标的收盘价-认沽期权虚值，7%×行权价），行权价格]×合约单位\n",
    "- 认购期权虚值=max（行权价-合约标的收盘价，0）\n",
    "- 认沽期权虚值=max（合约标的收盘价-行权价，0）\n",
    "\n",
    "注意：临近行权日（包括行权日）的保证金的收取比例将会提高。"
   ]
  },
  {
   "cell_type": "markdown",
   "id": "cb8d5a9a-2c92-4539-9464-cbec06609318",
   "metadata": {},
   "source": [
    "在汇点软件的期权界面中有一列预估保证金，一般来说，越虚值的合约所需要的保证金越少，越实值的合约所需要的保证金越多。要注意，保证金和实际支出并不相同。"
   ]
  },
  {
   "cell_type": "markdown",
   "id": "2115c555-8090-4292-a346-d252fe6041f0",
   "metadata": {},
   "source": [
    "![](./小马期权.assets/汇点预估保证金.png)"
   ]
  },
  {
   "cell_type": "markdown",
   "id": "d8c1beea-a97d-4e16-8440-2d55466804a2",
   "metadata": {},
   "source": [
    "####   保证金-权利金=实际支出\n",
    "卖出“50ETF 5月购2800”合约的实际支出为：保证金3738.40元-权利金450元=3288.4元。如果仔细看，就会发现实值合约的实际支出与保证金相差不大。"
   ]
  },
  {
   "cell_type": "markdown",
   "id": "92ef3ec0-df67-4e64-9b6b-ea79e9fefda9",
   "metadata": {},
   "source": [
    "![](./小马期权.assets/汇点保证金详细说明.png)"
   ]
  },
  {
   "cell_type": "markdown",
   "id": "b3405b16-ac97-4226-bf87-1fb3409e4b41",
   "metadata": {},
   "source": [
    "####  保证金风险度"
   ]
  },
  {
   "cell_type": "markdown",
   "id": "4de5efee-26fa-40e0-a172-b1281178e447",
   "metadata": {},
   "source": [
    "如果在账户里有卖期权，期权软件就会有风险度显示，有时候会显示为风险率或杠杆率。一般来说账户的风险度在90%以上，券商就会有相应的提示，并且不允许新开仓。若账户的风险度超过100%，就会被券商强行平仓"
   ]
  },
  {
   "cell_type": "markdown",
   "id": "26c58fae-61f6-4808-9a31-f9b605d4d6a3",
   "metadata": {},
   "source": [
    "![](./小马期权.assets/汇点风险度.png)"
   ]
  },
  {
   "cell_type": "markdown",
   "id": "be3fcfca-ce4a-40fc-8a68-007bdb85c51a",
   "metadata": {},
   "source": [
    "####  组合保证金"
   ]
  },
  {
   "cell_type": "markdown",
   "id": "59056328-a981-4b76-b44c-4ac1b4599653",
   "metadata": {},
   "source": [
    "2019年11月50ETF期权推出组合保证金制度，随后在300ETF上也推出组合保证金制度，且在美股期权、豆粕、白糖期权中都有这个制度。下面我们对组合保证金制度做一下简单的介绍。"
   ]
  },
  {
   "cell_type": "markdown",
   "id": "345345ff-e8a6-4dd0-9151-4345813afbad",
   "metadata": {},
   "source": [
    "比如卖出300ETF 5月3900认购、认沽的跨式期权，可以使用跨式空头组合策略，**这样只收取单边数量最大的保证金就行了**。  \n",
    "如果不使用组合保证金，那么卖认沽和卖认购两边将都被收取保证金。组合保证金会极大地降低卖方的成本，提高资金的使用效率。同时，使用价差策略组合，可以固定风险度，能在一定程度上降低爆仓的风险。在实施股票冲抵保证金之后，如果账户持有很多只股票，则在进行期权卖出操作时，可以将股票折算成保证金。"
   ]
  },
  {
   "cell_type": "markdown",
   "id": "be5c8b13-0968-44c6-915d-c5120b0265eb",
   "metadata": {},
   "source": [
    "![](./小马期权.assets/跨式空头组合保证金.png)"
   ]
  },
  {
   "cell_type": "markdown",
   "id": "9ae2c330-6310-452e-968c-efcb1b4d965d",
   "metadata": {},
   "source": [
    "## 期权套期保值"
   ]
  },
  {
   "cell_type": "markdown",
   "id": "41286398-9a08-4e10-bf2c-6af54d5d4461",
   "metadata": {},
   "source": [
    "期权套期保值的优点：在期货和现货中进行套期保值，期货头寸上的获利会对冲现货上的亏损，现货上的亏损也会对冲期货上的获利，最后将净值限定在一个固定范围。"
   ]
  },
  {
   "cell_type": "markdown",
   "id": "e80bec1a-875c-4815-973a-223c5f8ad72b",
   "metadata": {},
   "source": [
    "而使用期权做对冲保护就不会如此，使用期权做套期保值会使风险锁定，并且不会完全影响现货或期货的盈利。"
   ]
  },
  {
   "cell_type": "markdown",
   "id": "1317067b-78fa-4d2d-b71b-fa0fcbfb75ee",
   "metadata": {},
   "source": [
    "当然，期权套期保值并不是没有缺点的，其**受时间价值影响比较严重**。当期权行权价很虚的时候，期权价格并不会随着标的价格的波动而波动。"
   ]
  },
  {
   "cell_type": "markdown",
   "id": "87fedba0-a8d0-4096-ab48-8bde8355daeb",
   "metadata": {},
   "source": [
    "如果公司符合申请套期保值的资格，则可以向交易所办理申报手续。交易所对套期保值实行额度审批机制，客户单边期货和期权套期保值持仓不能超过批准的额度。期权单边套期保值持仓也不能超过批准额度，其中，买入看涨期权、卖出看跌期权和期货多头为同一个方向，卖出看涨、买入看跌和期货空头为另一个方向。"
   ]
  },
  {
   "cell_type": "markdown",
   "id": "fe495e54-29ef-4f0d-b790-62b75b484676",
   "metadata": {},
   "source": [
    "## 商品期权"
   ]
  },
  {
   "cell_type": "markdown",
   "id": "81316866-a490-48a3-a499-f9af27068fe4",
   "metadata": {},
   "source": [
    "截至2020年年底，在国内上市的商品期权已有18个，并且随着市场的发展，上市品种会越来越多，这给我们的期权投资提供了新的机会。"
   ]
  },
  {
   "cell_type": "markdown",
   "id": "97209b8b-ffa7-4b27-87ab-0dfc3e33622c",
   "metadata": {},
   "source": [
    "一般的个人投资和资产保值所涉及的产品有存款、逆回购、理财产品、股票、期货、期权。**商品期权与对应的商品期货品种的走势和运行规律有很大不同**，在多样化的资产配置中，可以用商品期权分散风险。"
   ]
  },
  {
   "cell_type": "markdown",
   "id": "2f37fb1c-daa1-4285-abf1-2a160512ffa2",
   "metadata": {},
   "source": [
    "**一般基于商品期货的期权都是逻辑性比较好的品种**，比如农产品，其逻辑相对简单，主要受需求、供给、天气等因素的影响，通常农产品的需求是相对稳定的，比如豆粕、棉花、玉米，若在上一个年度这些农产品行情比较好、价格较高，那么当年种植这些农产品的面积就会相对扩大；如果上一个年度这些农产品的价格较低，就会影响其当年的种植面积。工业品可以表现为经济的晴雨表，比如在汽车销量好的时候，橡胶的需求量就会比较大。"
   ]
  },
  {
   "cell_type": "markdown",
   "id": "6a366b3e-9e0b-4958-b24e-d0c0c5205028",
   "metadata": {},
   "source": [
    "期权相对于期货有着丰富的策略，既可以做多，选择买认购，也可以做空，选择买认沽，还可以使用卖方策略、价差策略、期限策略等，但是要注意波动率的变化，最好先用50ETF、300ETF期权熟悉策略，再结合对商品期货的了解，对相应的商品期权进行多策略操作。"
   ]
  },
  {
   "cell_type": "markdown",
   "id": "eab91b18-220f-40df-963f-e020acf56907",
   "metadata": {},
   "source": [
    "### 商品期权基础知识"
   ]
  },
  {
   "cell_type": "markdown",
   "id": "ebbdf098-f214-46ef-8d00-38719d484a24",
   "metadata": {},
   "source": [
    "####  商品期权品种"
   ]
  },
  {
   "cell_type": "markdown",
   "id": "305e97cf-fdb5-417e-83bd-33327ef13a9a",
   "metadata": {},
   "source": [
    "截至2020年12月20日，已上市的商品期权品种有18个（如图2-42所示），包括豆粕、白糖、沪铜、棉花、玉米、橡胶等。\n",
    "- 豆粕的主要产地是阿根廷、巴西、美国，主要受天气影响和周期的影响；\n",
    "- 白糖的主要产地是中国和印度，天气对于白糖的原料种植影响比较大；\n",
    "- 沪铜的主要产地是智利，其既有商品属性，也有经济属性，且和经济息息相关，与股市也有一定的关系；\n",
    "- 棉花主要产自中国新疆，其中经济周期和供需关系会影响棉花的价格；\n",
    "- 玉米的主要产地是中国东北，还有一部分从美国进口；\n",
    "- 橡胶的主要产地是泰国，主要受天气的影响，会出现大起大落的行情。  \n",
    "\n",
    "总体来说，现在已上市的商品期权的涨跌幅还是相对可控的。"
   ]
  },
  {
   "cell_type": "markdown",
   "id": "b48ad73e-247d-4a82-83e7-606f43f0906c",
   "metadata": {},
   "source": [
    "![](./小马期权.assets/已上市的商品期权品种.png)"
   ]
  },
  {
   "cell_type": "markdown",
   "id": "cb214331-7277-40c1-a761-3402d00e355b",
   "metadata": {},
   "source": [
    "####  商品期权的资金门槛"
   ]
  },
  {
   "cell_type": "markdown",
   "id": "577dd26b-c435-4b35-a580-46243dc9eb74",
   "metadata": {},
   "source": [
    "不同品种的商品期权其交易规则会有一些不同，在进入商品期权市场之前最好掌握这些规则。  \n",
    "每个品种的到期日都不相同，一定要把握好到期日。**商品期权开户的资金门槛为10万元，相比50ETF、300ETF等金融期权的开户资金门槛要低不少。**"
   ]
  },
  {
   "cell_type": "markdown",
   "id": "31658f20-258c-4c58-9659-627000b2cf33",
   "metadata": {},
   "source": [
    "####  商品期权开户条件"
   ]
  },
  {
   "cell_type": "markdown",
   "id": "e1b94624-c8b8-44fe-9211-5fdc66e9a5e3",
   "metadata": {},
   "source": [
    "商品期权开户条件：10万元资金门槛，需开通期货账户，连续模拟10个交易日，完成这些后再去相应的营业部进行双录（录音和录像）和开户。"
   ]
  },
  {
   "cell_type": "markdown",
   "id": "3c06aca4-72ca-4cda-bcdf-da7545964bab",
   "metadata": {},
   "source": [
    "已有50ETF、300ETF期权交易经验的投资者需要有期货账户、对账单（含卖方操作记录）、在期货公司的双录，即可开户。"
   ]
  },
  {
   "cell_type": "markdown",
   "id": "e9ef43c4-c074-4cdf-91e6-85d7d6d806e6",
   "metadata": {},
   "source": [
    "####   商品期权看盘"
   ]
  },
  {
   "cell_type": "markdown",
   "id": "c4005ab9-b4c6-4dd5-9c95-e63c41190fde",
   "metadata": {},
   "source": [
    "商品期权的盘面观察和金融期权的盘面观察类似，都使用T型报价的方式，只是**商品期权每个月的合约对应的标的合约有所不同，其对应每个月份的期货，而不同月份的商品期货的价格不同**，不像ETF期权标的的价格是固定的。"
   ]
  },
  {
   "cell_type": "markdown",
   "id": "422ed611-079a-4971-b9cc-a04a1857ea11",
   "metadata": {},
   "source": [
    "###  商品期权实战"
   ]
  },
  {
   "cell_type": "markdown",
   "id": "a05ab971-80a2-4bc3-a7a3-089eb07a478f",
   "metadata": {},
   "source": [
    "####  豆粕期权"
   ]
  },
  {
   "cell_type": "markdown",
   "id": "31d029fc-4bdd-4c51-8dd0-d49b013e1ae3",
   "metadata": {},
   "source": [
    "![](./小马期权.assets/豆粕期权交易单.png)"
   ]
  },
  {
   "cell_type": "markdown",
   "id": "d0dff999-ac67-4a77-8ce2-4d90ec7d6742",
   "metadata": {},
   "source": [
    "豆粕在2018年的盈利机会并不多，但豆粕期权是买入跨式的好品种。2018年3月30日零时，美国农业部公布新一季大豆种植面积低于市场预期，且低于2017年实际种植面积。报告一出，持续利好消息刺激大豆价格攀至两周高位，豆粕期货价格涨停"
   ]
  },
  {
   "cell_type": "markdown",
   "id": "2e49d3eb-542f-44a7-b407-4928799d4783",
   "metadata": {},
   "source": [
    "![](./小马期权.assets/豆粕期权跳空上涨.png)"
   ]
  },
  {
   "cell_type": "markdown",
   "id": "2df89378-bd40-4e83-a306-f26547e5167f",
   "metadata": {},
   "source": [
    "事实上，在预期有重大消息公布的前夜，就有投资者进行了买跨的操作，导致2018年3月29日夜盘豆粕认沽期权价格与认购期权价格同时上涨：豆粕1805合约在3030点附近窄幅震荡，5月份期权合约只有很短的交易时间了，时间价值也非常低，这时是绝佳的买跨和彩票机会，看涨合约3050逐渐上涨到35元，认沽合约价格也在上涨。"
   ]
  },
  {
   "cell_type": "markdown",
   "id": "78bb3e10-6358-4b5a-bc8b-20ce0c954145",
   "metadata": {},
   "source": [
    "目前，唯有期权能在出现这样大的波动时做到大概率获利！"
   ]
  },
  {
   "cell_type": "markdown",
   "id": "f3e94960-1d51-47a5-b848-e01f8fb5bdae",
   "metadata": {},
   "source": [
    "![](./小马期权.assets/豆粕期权认沽合约走势.png)"
   ]
  },
  {
   "cell_type": "markdown",
   "id": "1740bfc2-a09d-47d0-a24d-68c96cf4ecb4",
   "metadata": {},
   "source": [
    "####  白糖期权"
   ]
  },
  {
   "cell_type": "markdown",
   "id": "4478c5b5-6ff3-47c6-a2dd-83ab10243d8e",
   "metadata": {},
   "source": [
    "2018年白糖期权延续下跌趋势，但总体走势还是比较流畅的。当出现比较连续的走势时，还是可以考虑通过买方的方式入场的。使用期权的移仓操作，买入认沽期权，最终获取较多利润"
   ]
  },
  {
   "cell_type": "markdown",
   "id": "7dcc7283-6080-4f99-b664-c529d93f1113",
   "metadata": {},
   "source": [
    "![](./小马期权.assets/白糖期权的移仓操作.png)"
   ]
  },
  {
   "cell_type": "markdown",
   "id": "caac9ceb-5890-471b-bf17-7afffc581117",
   "metadata": {},
   "source": [
    "####  2020年1季度的商品期权"
   ]
  },
  {
   "cell_type": "markdown",
   "id": "4216d8fc-f4bf-4a98-ac76-24a5cee33069",
   "metadata": {},
   "source": [
    "2020年1季度，由于原油市场大幅波动，世界股市、大宗商品市场纷纷连续下挫。  \n",
    "3月叠加流动性危机，黄金市场也出现较大的波动，这种金融市场环境恰好给了商品期权机会，使得商品期权的认沽期权获得较大的涨幅。"
   ]
  },
  {
   "cell_type": "markdown",
   "id": "ea34c0ab-2323-4a9e-a646-757883f5e2e9",
   "metadata": {},
   "source": [
    "####  36小时盈利7倍的铁矿期权"
   ]
  },
  {
   "cell_type": "markdown",
   "id": "95ba57eb-ee77-463a-a851-f78e6bf5f0b2",
   "metadata": {},
   "source": [
    "2020年11—12月，铁矿石期货价格连续大涨，随着标的价格的上涨，做多期货的风险是很大的，但是期权买方具有亏损有限的特点，所以可以尝试使用少量资金买入。"
   ]
  },
  {
   "cell_type": "markdown",
   "id": "7c23ec27-f1cd-4397-9424-d9d06780b8cc",
   "metadata": {},
   "source": [
    "![](./小马期权.assets/铁矿石期货走势.png)"
   ]
  },
  {
   "cell_type": "markdown",
   "id": "d6209cfa-8475-4cd2-a17f-9a60aa9e4c85",
   "metadata": {},
   "source": [
    "作者在2020年12月3日晚上，买入100张1080购铁矿石期权合约，累计投入8万多元，该笔交易获利。第二天上午铁矿石价格接近涨停，该合约累计上涨约7倍，作者平仓该笔交易，在36小时内以8万多元的成本获得了50多万元的收益，为作者账户截图。"
   ]
  },
  {
   "cell_type": "markdown",
   "id": "f2c3dc50-b5af-4984-888e-930696e5b0a7",
   "metadata": {},
   "source": [
    "![](./小马期权.assets/铁矿石期权收益.png)"
   ]
  },
  {
   "cell_type": "markdown",
   "id": "db1b5933-ac62-432a-bec8-722d2506e380",
   "metadata": {},
   "source": [
    "###  经验总结"
   ]
  },
  {
   "cell_type": "markdown",
   "id": "65f38789-bbc3-42bf-80a7-ffc4e679ed1b",
   "metadata": {},
   "source": [
    "- 懂点基本面  \n",
    "做商品期权要懂一些基本面，大概了解某种商品期货的顶与底的区间、成本、供需情况，还要具备一些基本的技术分析能力，否则无法很好地把握买和卖的入场点。\n",
    "- 彩票和跨式  \n",
    "在商品期权中可以考虑做一些彩票或跨式，在期权价格很低、波动率也比较低的时候使用这两种方法，往往会有意想不到的收获。\n",
    "- 做长线和波段  \n",
    "对于商品期权来说，如果投资者不能长时间盯盘，则可以考虑做长线或波段操作，也能够获得不错的收益。目前，商品期权的流动性比较差，做短线操作付出的成本是比较高的。\n",
    "- 提前做好准备  \n",
    "商品期权的行情往往会来得比较突然，我们不需要每天都交易，但一定要在符合交易标准的时候交易。这就要求投资者要有敏锐的“嗅觉”，提前做好知识储备，以及账户和资金的准备工作，一旦机会来临，就可以马上参与其中！"
   ]
  },
  {
   "cell_type": "markdown",
   "id": "f88b7471-e2cc-4fb8-acfc-b5a125f7a233",
   "metadata": {},
   "source": [
    "## 沪深300股指期权解析"
   ]
  },
  {
   "cell_type": "markdown",
   "id": "ef98d6ae-554c-4223-86af-ef7c10e3154a",
   "metadata": {},
   "source": [
    "2019年12月，沪深300期权上市，标的有上交所的华泰柏瑞沪深300ETF（510300）、深交所的嘉实沪深300ETF（159919）和中金所的沪深300指数股指期权（000300）。"
   ]
  },
  {
   "cell_type": "markdown",
   "id": "270694d7-b92b-4ee7-bb34-cdeac12461df",
   "metadata": {},
   "source": [
    "![](./小马期权.assets/股指期权T型报价.png)"
   ]
  },
  {
   "cell_type": "markdown",
   "id": "f0cd679e-1f1e-49cf-a80d-642d781aa1dc",
   "metadata": {},
   "source": [
    "股指期权和ETF期权的对比如下。\n",
    "- 1.资金  \n",
    "股指期权的面额比ETF的面额大十倍，容纳得资金更多。从权利金上来看，参考目前50ETF期权的波动率和位置，当300ETF的价格在4元左右时，一个月到期的平值期权合约价格大约是600元/张，股指期权合约的价格大约是6000元/张。如果买得多，那么还需要考虑流动性问题，考虑哪一种期权的流动性更好。"
   ]
  },
  {
   "cell_type": "markdown",
   "id": "05401d6f-210b-4b45-8c58-3194304c6155",
   "metadata": {},
   "source": [
    "- 2.交割方式  \n",
    "ETF期权的交割方式是实物交割，实物交割有备兑和行权，行权就必须准备资金买现货。而**股指期权是现金交割**，到行权日那天有资金就行权，不管投资者是买还是卖，都按照点差和行权价去行权。"
   ]
  },
  {
   "cell_type": "markdown",
   "id": "b4ce3fbd-5aa5-46fb-b4d5-db24d6f002c9",
   "metadata": {},
   "source": [
    "- 3.备兑方式  \n",
    "喜欢“慢牛”行情的人一般都会选择做ETF期权，因为可以先买入现货，然后备兑卖出认购期权，这样就多一份收入。而在做股指期权时，如果没有做股指期货，就少了备兑这种方式。"
   ]
  },
  {
   "cell_type": "markdown",
   "id": "e6229b2c-467b-4262-9b70-58a0ed4d5b64",
   "metadata": {},
   "source": [
    "- 4.末日轮  **股指期权的结算价格是交易日最后两小时的平均价**，不会像**ETF期权那样在最后半小时还有末日轮现象**，因为在最后两小时股指期权的价格基本上就没有波动了。而ETF期权在最后一小时也可能会随着标的价格的波动出现Gamma值的巨大波动，从而带来期权价格的波动。"
   ]
  },
  {
   "cell_type": "markdown",
   "id": "5acad81c-ae78-4b14-8be8-4d466f79b149",
   "metadata": {},
   "source": [
    "- 5.手续费  \n",
    "目前，50ETF、300ETF期权的手续费都是3元/张左右，这是一个比较正常的价格，股指期权的手续费整体来说相对要便宜一点。"
   ]
  },
  {
   "cell_type": "markdown",
   "id": "01235384-fd1e-40d9-b084-e77464312fed",
   "metadata": {},
   "source": [
    "- 6.点差  \n",
    "ETF期权点差的最低差别是1元，股指期权点差的最低差别是20元，因为股指期权的面额大。"
   ]
  },
  {
   "cell_type": "markdown",
   "id": "c136fbee-a0ff-4364-91a3-b95b543b0769",
   "metadata": {},
   "source": [
    "- 7.行权间距  \n",
    "ETF期权的价格是3～5元，行权价是0.1元一档。股指期权在2500～5000点是50点一档，在5000～10000点是100点一档精度比ETF的精度高一倍，这一点非常重要。"
   ]
  }
 ],
 "metadata": {
  "kernelspec": {
   "display_name": "Python 3 (ipykernel)",
   "language": "python",
   "name": "python3"
  },
  "language_info": {
   "codemirror_mode": {
    "name": "ipython",
    "version": 3
   },
   "file_extension": ".py",
   "mimetype": "text/x-python",
   "name": "python",
   "nbconvert_exporter": "python",
   "pygments_lexer": "ipython3",
   "version": "3.10.1"
  }
 },
 "nbformat": 4,
 "nbformat_minor": 5
}
